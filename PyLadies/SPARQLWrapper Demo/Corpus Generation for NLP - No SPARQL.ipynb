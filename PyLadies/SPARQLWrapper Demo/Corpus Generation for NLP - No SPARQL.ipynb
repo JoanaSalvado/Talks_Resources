{
 "cells": [
  {
   "cell_type": "code",
   "execution_count": null,
   "metadata": {
    "ExecuteTime": {
     "end_time": "2021-05-15T13:56:55.126337Z",
     "start_time": "2021-05-15T13:56:55.116904Z"
    }
   },
   "outputs": [],
   "source": [
    "# !pip install beautifulsoup4\n",
    "# !pip install mediawikiapi\n",
    "# !pip install wikipedia"
   ]
  },
  {
   "cell_type": "code",
   "execution_count": null,
   "metadata": {
    "ExecuteTime": {
     "end_time": "2021-05-18T18:08:58.976034Z",
     "start_time": "2021-05-18T18:08:58.635390Z"
    }
   },
   "outputs": [],
   "source": [
    "from bs4 import BeautifulSoup\n",
    "from mediawikiapi import MediaWikiAPI\n",
    "import wikipedia\n",
    "import pandas as pd"
   ]
  },
  {
   "cell_type": "code",
   "execution_count": null,
   "metadata": {
    "ExecuteTime": {
     "end_time": "2021-05-18T18:09:11.698536Z",
     "start_time": "2021-05-18T18:09:11.144465Z"
    }
   },
   "outputs": [],
   "source": [
    "list_pages = wikipedia.search('covid')\n",
    "list_pages"
   ]
  },
  {
   "cell_type": "code",
   "execution_count": null,
   "metadata": {
    "ExecuteTime": {
     "end_time": "2021-05-18T18:09:31.937492Z",
     "start_time": "2021-05-18T18:09:30.731769Z"
    }
   },
   "outputs": [],
   "source": [
    "wiki_page_obj = wikipedia.page(list_pages[0])"
   ]
  },
  {
   "cell_type": "code",
   "execution_count": null,
   "metadata": {
    "ExecuteTime": {
     "end_time": "2021-05-18T18:09:44.950138Z",
     "start_time": "2021-05-18T18:09:44.941119Z"
    }
   },
   "outputs": [],
   "source": [
    "type(wiki_page_obj)"
   ]
  },
  {
   "cell_type": "code",
   "execution_count": null,
   "metadata": {
    "ExecuteTime": {
     "end_time": "2021-05-18T18:09:50.555538Z",
     "start_time": "2021-05-18T18:09:49.901422Z"
    },
    "scrolled": true
   },
   "outputs": [],
   "source": [
    "wiki_page_obj.content"
   ]
  },
  {
   "cell_type": "code",
   "execution_count": null,
   "metadata": {
    "ExecuteTime": {
     "end_time": "2021-05-18T18:10:00.125147Z",
     "start_time": "2021-05-18T18:10:00.106626Z"
    }
   },
   "outputs": [],
   "source": [
    "wiki_page_obj.url"
   ]
  },
  {
   "cell_type": "code",
   "execution_count": null,
   "metadata": {
    "ExecuteTime": {
     "end_time": "2021-05-18T18:10:03.104051Z",
     "start_time": "2021-05-18T18:10:02.406629Z"
    }
   },
   "outputs": [],
   "source": [
    "wiki_page_obj.categories"
   ]
  },
  {
   "cell_type": "code",
   "execution_count": null,
   "metadata": {
    "ExecuteTime": {
     "end_time": "2021-05-18T18:10:07.599423Z",
     "start_time": "2021-05-18T18:10:06.797645Z"
    }
   },
   "outputs": [],
   "source": [
    "wiki_page_obj.images"
   ]
  },
  {
   "cell_type": "code",
   "execution_count": null,
   "metadata": {
    "ExecuteTime": {
     "end_time": "2021-05-18T18:10:38.197651Z",
     "start_time": "2021-05-18T18:10:27.694491Z"
    }
   },
   "outputs": [],
   "source": [
    "soup = BeautifulSoup(wiki_page_obj.html(), 'html.parser')"
   ]
  },
  {
   "cell_type": "code",
   "execution_count": null,
   "metadata": {
    "ExecuteTime": {
     "end_time": "2021-05-18T18:10:48.443838Z",
     "start_time": "2021-05-18T18:10:46.860553Z"
    },
    "scrolled": true
   },
   "outputs": [],
   "source": [
    "soup"
   ]
  },
  {
   "cell_type": "code",
   "execution_count": null,
   "metadata": {
    "ExecuteTime": {
     "end_time": "2021-05-18T18:10:57.031724Z",
     "start_time": "2021-05-18T18:10:56.932724Z"
    }
   },
   "outputs": [],
   "source": [
    "tables = soup.findAll(\"table\", {\"class\": \"wikitable\"})"
   ]
  },
  {
   "cell_type": "code",
   "execution_count": null,
   "metadata": {
    "ExecuteTime": {
     "end_time": "2021-05-18T18:10:59.076191Z",
     "start_time": "2021-05-18T18:10:59.063191Z"
    }
   },
   "outputs": [],
   "source": [
    "len(tables)"
   ]
  },
  {
   "cell_type": "code",
   "execution_count": null,
   "metadata": {
    "ExecuteTime": {
     "end_time": "2021-05-18T18:11:00.888855Z",
     "start_time": "2021-05-18T18:11:00.865864Z"
    }
   },
   "outputs": [],
   "source": [
    "tables[0]"
   ]
  },
  {
   "cell_type": "markdown",
   "metadata": {},
   "source": [
    "Pseudocode\n",
    "\n",
    "`If tables exist:\n",
    "    For each of the n tables:\n",
    "        if first table:\n",
    "            then initiate the table count\n",
    "        else:\n",
    "            incrementally append table count\n",
    "        Get the header of the html table using tr th tags\n",
    "        Join them with ',' to write them in csv format\n",
    "        Iterate through each row's each cell using tr td tags\n",
    "            if cell content is link:\n",
    "                Take the link title\n",
    "            else:\n",
    "                Take the text\n",
    "            Add the table contents as apt for a csv\n",
    "        end table content building`"
   ]
  },
  {
   "cell_type": "code",
   "execution_count": null,
   "metadata": {
    "ExecuteTime": {
     "end_time": "2021-05-15T23:42:54.629396Z",
     "start_time": "2021-05-15T23:42:54.585909Z"
    }
   },
   "outputs": [],
   "source": [
    "table_contents = None\n",
    "\n",
    "if tables:\n",
    "    for i in range(0, len(tables)):\n",
    "        if table_contents:\n",
    "            table_contents = table_contents + \"== Table: \" + str(i) + \" ==\" + \"\\n\"\n",
    "        else:\n",
    "            table_contents = \"== Table: \" + str(i) + \" ==\" + \"\\n\"\n",
    "        headers = [th.text.encode(\"utf-8\").decode('utf-8') for th in tables[i].select(\"tr th\")]\n",
    "        header = \",\".join(headers)\n",
    "        table_contents = table_contents + str(header)\n",
    "        table_contents = table_contents + '\\n'\n",
    "        for row in tables[0].select(\"tr + tr\"):\n",
    "            for td in row.find_all(\"td\"):\n",
    "                if td.a:\n",
    "                    try:\n",
    "                        table_contents = table_contents + td.a['title'] + \",\"\n",
    "                    except KeyError as e:\n",
    "                        pass\n",
    "                    table_contents = table_contents + str(td.text.encode(\"utf-8\").decode('utf-8')) + \",\"\n",
    "                    continue\n",
    "                else:\n",
    "                    table_contents = table_contents + str(td.text.encode(\"utf-8\").decode('utf-8')) + \",\"\n",
    "            table_contents = table_contents + '\\n'\n",
    "        table_contents = table_contents + \"===============\""
   ]
  },
  {
   "cell_type": "code",
   "execution_count": null,
   "metadata": {
    "ExecuteTime": {
     "end_time": "2021-05-15T23:43:18.828165Z",
     "start_time": "2021-05-15T23:43:18.806709Z"
    }
   },
   "outputs": [],
   "source": [
    "table_contents"
   ]
  },
  {
   "cell_type": "code",
   "execution_count": null,
   "metadata": {
    "ExecuteTime": {
     "end_time": "2021-05-15T23:48:25.534425Z",
     "start_time": "2021-05-15T23:48:25.503262Z"
    }
   },
   "outputs": [],
   "source": [
    "tables[0]"
   ]
  },
  {
   "cell_type": "code",
   "execution_count": null,
   "metadata": {
    "ExecuteTime": {
     "end_time": "2021-05-18T18:11:48.281084Z",
     "start_time": "2021-05-18T18:11:48.213054Z"
    }
   },
   "outputs": [],
   "source": [
    "df1 = pd.read_html(str(tables))[0]"
   ]
  },
  {
   "cell_type": "code",
   "execution_count": null,
   "metadata": {
    "ExecuteTime": {
     "end_time": "2021-05-18T18:11:49.673856Z",
     "start_time": "2021-05-18T18:11:49.658941Z"
    }
   },
   "outputs": [],
   "source": [
    "df1.head()"
   ]
  },
  {
   "cell_type": "code",
   "execution_count": null,
   "metadata": {
    "ExecuteTime": {
     "end_time": "2021-05-18T18:11:56.804138Z",
     "start_time": "2021-05-18T18:11:56.687140Z"
    }
   },
   "outputs": [],
   "source": [
    "df2 = pd.read_html(str(tables))[1]\n",
    "df2.head()"
   ]
  },
  {
   "cell_type": "code",
   "execution_count": null,
   "metadata": {},
   "outputs": [],
   "source": []
  },
  {
   "cell_type": "code",
   "execution_count": null,
   "metadata": {},
   "outputs": [],
   "source": []
  }
 ],
 "metadata": {
  "kernelspec": {
   "display_name": "Python 3",
   "language": "python",
   "name": "python3"
  },
  "language_info": {
   "codemirror_mode": {
    "name": "ipython",
    "version": 3
   },
   "file_extension": ".py",
   "mimetype": "text/x-python",
   "name": "python",
   "nbconvert_exporter": "python",
   "pygments_lexer": "ipython3",
   "version": "3.8.5"
  },
  "toc": {
   "base_numbering": 1,
   "nav_menu": {},
   "number_sections": true,
   "sideBar": true,
   "skip_h1_title": false,
   "title_cell": "Table of Contents",
   "title_sidebar": "Contents",
   "toc_cell": false,
   "toc_position": {},
   "toc_section_display": true,
   "toc_window_display": false
  },
  "varInspector": {
   "cols": {
    "lenName": 16,
    "lenType": 16,
    "lenVar": 40
   },
   "kernels_config": {
    "python": {
     "delete_cmd_postfix": "",
     "delete_cmd_prefix": "del ",
     "library": "var_list.py",
     "varRefreshCmd": "print(var_dic_list())"
    },
    "r": {
     "delete_cmd_postfix": ") ",
     "delete_cmd_prefix": "rm(",
     "library": "var_list.r",
     "varRefreshCmd": "cat(var_dic_list()) "
    }
   },
   "types_to_exclude": [
    "module",
    "function",
    "builtin_function_or_method",
    "instance",
    "_Feature"
   ],
   "window_display": false
  }
 },
 "nbformat": 4,
 "nbformat_minor": 4
}
