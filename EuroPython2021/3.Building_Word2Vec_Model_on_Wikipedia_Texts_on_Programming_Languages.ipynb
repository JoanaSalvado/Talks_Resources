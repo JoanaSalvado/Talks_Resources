{
  "nbformat": 4,
  "nbformat_minor": 0,
  "metadata": {
    "colab": {
      "name": "Building Word2Vec Model on Wikipedia Texts on Programming Languages.ipynb",
      "provenance": [],
      "collapsed_sections": [],
      "authorship_tag": "ABX9TyPMo2PHl983rKnCuPV9s2gm",
      "include_colab_link": true
    },
    "kernelspec": {
      "name": "python3",
      "display_name": "Python 3"
    },
    "language_info": {
      "name": "python"
    }
  },
  "cells": [
    {
      "cell_type": "markdown",
      "metadata": {
        "id": "view-in-github",
        "colab_type": "text"
      },
      "source": [
        "<a href=\"https://colab.research.google.com/github/royn5618/Talks_Resources/blob/main/EuroPython2021/Building_Word2Vec_Model_on_Wikipedia_Texts_on_Programming_Languages.ipynb\" target=\"_parent\"><img src=\"https://colab.research.google.com/assets/colab-badge.svg\" alt=\"Open In Colab\"/></a>"
      ]
    },
    {
      "cell_type": "markdown",
      "metadata": {
        "id": "Q1Y76jGNELAV"
      },
      "source": [
        "In this example, I have used SPARQL Query to query the **Wikipedia Page Names**. The names are in **rdfs:label** property. Once I had the list of wikipedia page names, the next step is to get the contents using **Wikipedia Python Library**, process it and create a **Word2Vec model using Gensim**."
      ]
    },
    {
      "cell_type": "code",
      "metadata": {
        "colab": {
          "base_uri": "https://localhost:8080/"
        },
        "id": "lOAXcHCsxwXY",
        "outputId": "08ae0a94-a179-4642-930b-70a01b9634e5"
      },
      "source": [
        "!pip install beautifulsoup4\n",
        "!pip install wikipedia\n",
        "!pip install SPARQLWrapper\n",
        "!pip install gensim"
      ],
      "execution_count": 1,
      "outputs": [
        {
          "output_type": "stream",
          "text": [
            "Requirement already satisfied: beautifulsoup4 in /usr/local/lib/python3.7/dist-packages (4.6.3)\n",
            "Collecting wikipedia\n",
            "  Downloading wikipedia-1.4.0.tar.gz (27 kB)\n",
            "Requirement already satisfied: beautifulsoup4 in /usr/local/lib/python3.7/dist-packages (from wikipedia) (4.6.3)\n",
            "Requirement already satisfied: requests<3.0.0,>=2.0.0 in /usr/local/lib/python3.7/dist-packages (from wikipedia) (2.23.0)\n",
            "Requirement already satisfied: urllib3!=1.25.0,!=1.25.1,<1.26,>=1.21.1 in /usr/local/lib/python3.7/dist-packages (from requests<3.0.0,>=2.0.0->wikipedia) (1.24.3)\n",
            "Requirement already satisfied: idna<3,>=2.5 in /usr/local/lib/python3.7/dist-packages (from requests<3.0.0,>=2.0.0->wikipedia) (2.10)\n",
            "Requirement already satisfied: certifi>=2017.4.17 in /usr/local/lib/python3.7/dist-packages (from requests<3.0.0,>=2.0.0->wikipedia) (2021.5.30)\n",
            "Requirement already satisfied: chardet<4,>=3.0.2 in /usr/local/lib/python3.7/dist-packages (from requests<3.0.0,>=2.0.0->wikipedia) (3.0.4)\n",
            "Building wheels for collected packages: wikipedia\n",
            "  Building wheel for wikipedia (setup.py) ... \u001b[?25l\u001b[?25hdone\n",
            "  Created wheel for wikipedia: filename=wikipedia-1.4.0-py3-none-any.whl size=11696 sha256=b00e5c202bf52219426f3ded8c7357d7af1180a7dede364a037498e23460b07d\n",
            "  Stored in directory: /root/.cache/pip/wheels/15/93/6d/5b2c68b8a64c7a7a04947b4ed6d89fb557dcc6bc27d1d7f3ba\n",
            "Successfully built wikipedia\n",
            "Installing collected packages: wikipedia\n",
            "Successfully installed wikipedia-1.4.0\n",
            "Collecting SPARQLWrapper\n",
            "  Downloading SPARQLWrapper-1.8.5-py3-none-any.whl (26 kB)\n",
            "Collecting rdflib>=4.0\n",
            "  Downloading rdflib-6.0.0-py3-none-any.whl (376 kB)\n",
            "\u001b[K     |████████████████████████████████| 376 kB 5.5 MB/s \n",
            "\u001b[?25hRequirement already satisfied: setuptools in /usr/local/lib/python3.7/dist-packages (from rdflib>=4.0->SPARQLWrapper) (57.2.0)\n",
            "Requirement already satisfied: pyparsing in /usr/local/lib/python3.7/dist-packages (from rdflib>=4.0->SPARQLWrapper) (2.4.7)\n",
            "Collecting isodate\n",
            "  Downloading isodate-0.6.0-py2.py3-none-any.whl (45 kB)\n",
            "\u001b[K     |████████████████████████████████| 45 kB 3.3 MB/s \n",
            "\u001b[?25hRequirement already satisfied: six in /usr/local/lib/python3.7/dist-packages (from isodate->rdflib>=4.0->SPARQLWrapper) (1.15.0)\n",
            "Installing collected packages: isodate, rdflib, SPARQLWrapper\n",
            "Successfully installed SPARQLWrapper-1.8.5 isodate-0.6.0 rdflib-6.0.0\n",
            "Requirement already satisfied: gensim in /usr/local/lib/python3.7/dist-packages (3.6.0)\n",
            "Requirement already satisfied: scipy>=0.18.1 in /usr/local/lib/python3.7/dist-packages (from gensim) (1.4.1)\n",
            "Requirement already satisfied: six>=1.5.0 in /usr/local/lib/python3.7/dist-packages (from gensim) (1.15.0)\n",
            "Requirement already satisfied: numpy>=1.11.3 in /usr/local/lib/python3.7/dist-packages (from gensim) (1.19.5)\n",
            "Requirement already satisfied: smart-open>=1.2.1 in /usr/local/lib/python3.7/dist-packages (from gensim) (5.1.0)\n"
          ],
          "name": "stdout"
        }
      ]
    },
    {
      "cell_type": "code",
      "metadata": {
        "colab": {
          "base_uri": "https://localhost:8080/"
        },
        "id": "hWMiZYJqxyts",
        "outputId": "0182f451-1f6a-45e5-ef6c-798fd9d63aa1"
      },
      "source": [
        "from SPARQLWrapper import SPARQLWrapper, JSON, N3\n",
        "import pandas as pd\n",
        "from bs4 import BeautifulSoup\n",
        "import wikipedia\n",
        "\n",
        "import re\n",
        "\n",
        "import nltk\n",
        "nltk.download('punkt')\n",
        "from nltk.tokenize import word_tokenize\n",
        "from nltk.stem import WordNetLemmatizer\n",
        "nltk.download('wordnet')\n",
        "\n",
        "from gensim.models import Word2Vec # This is Gensim 3.6.0\n",
        "\n",
        "import matplotlib.pyplot as plt\n",
        "import seaborn as sns\n",
        "sns.set_theme(style=\"darkgrid\")\n",
        "\n",
        "from sklearn.decomposition import PCA\n",
        "\n",
        "import warnings\n",
        "warnings.filterwarnings('ignore')"
      ],
      "execution_count": 2,
      "outputs": [
        {
          "output_type": "stream",
          "text": [
            "[nltk_data] Downloading package punkt to /root/nltk_data...\n",
            "[nltk_data]   Unzipping tokenizers/punkt.zip.\n",
            "[nltk_data] Downloading package wordnet to /root/nltk_data...\n",
            "[nltk_data]   Unzipping corpora/wordnet.zip.\n"
          ],
          "name": "stdout"
        }
      ]
    },
    {
      "cell_type": "code",
      "metadata": {
        "id": "ovdhP-Q9x7JC"
      },
      "source": [
        "sparql = SPARQLWrapper('https://dbpedia.org/sparql')"
      ],
      "execution_count": 3,
      "outputs": []
    },
    {
      "cell_type": "code",
      "metadata": {
        "id": "IV9Sww-1x9MA"
      },
      "source": [
        "def exec_query(sparql, query):\n",
        "    sparql.setQuery(query)\n",
        "    sparql.setReturnFormat(JSON)\n",
        "    results = sparql.query().convert()\n",
        "    results = pd.json_normalize(results['results']['bindings'])\n",
        "    return results"
      ],
      "execution_count": 4,
      "outputs": []
    },
    {
      "cell_type": "markdown",
      "metadata": {
        "id": "giEQs4uz1Nvl"
      },
      "source": [
        "**YAGO** (Yet Another Great Ontology) is an open source knowledge base developed at the Max Planck Institute for Computer Science in Saarbrücken.\n",
        "\n",
        "Ref - https://en.wikipedia.org/wiki/YAGO_(database)"
      ]
    },
    {
      "cell_type": "code",
      "metadata": {
        "colab": {
          "base_uri": "https://localhost:8080/",
          "height": 35
        },
        "id": "ZcGpqbo_yApy",
        "outputId": "2495216a-6407-44a8-f20d-a1b2fef306d0"
      },
      "source": [
        "query = ''' SELECT ?thing, ?label \n",
        "WHERE { ?thing a dbo:ProgrammingLanguage; a dbo:Language; a yago:WikicatProgrammingLanguages; rdfs:label ?label .\n",
        "FILTER(LANG(?label) = \"en\")} '''\n",
        "query"
      ],
      "execution_count": 5,
      "outputs": [
        {
          "output_type": "execute_result",
          "data": {
            "application/vnd.google.colaboratory.intrinsic+json": {
              "type": "string"
            },
            "text/plain": [
              "' SELECT ?thing, ?label \\nWHERE { ?thing a dbo:ProgrammingLanguage; a dbo:Language; a yago:WikicatProgrammingLanguages; rdfs:label ?label .\\nFILTER(LANG(?label) = \"en\")} '"
            ]
          },
          "metadata": {
            "tags": []
          },
          "execution_count": 5
        }
      ]
    },
    {
      "cell_type": "code",
      "metadata": {
        "colab": {
          "base_uri": "https://localhost:8080/",
          "height": 206
        },
        "id": "eg3Ke8dKylW6",
        "outputId": "2c520fe9-0838-4cd1-d7ba-e4b032064faa"
      },
      "source": [
        "results = exec_query(sparql, query)\n",
        "results.head()"
      ],
      "execution_count": 6,
      "outputs": [
        {
          "output_type": "execute_result",
          "data": {
            "text/html": [
              "<div>\n",
              "<style scoped>\n",
              "    .dataframe tbody tr th:only-of-type {\n",
              "        vertical-align: middle;\n",
              "    }\n",
              "\n",
              "    .dataframe tbody tr th {\n",
              "        vertical-align: top;\n",
              "    }\n",
              "\n",
              "    .dataframe thead th {\n",
              "        text-align: right;\n",
              "    }\n",
              "</style>\n",
              "<table border=\"1\" class=\"dataframe\">\n",
              "  <thead>\n",
              "    <tr style=\"text-align: right;\">\n",
              "      <th></th>\n",
              "      <th>thing.type</th>\n",
              "      <th>thing.value</th>\n",
              "      <th>label.type</th>\n",
              "      <th>label.xml:lang</th>\n",
              "      <th>label.value</th>\n",
              "    </tr>\n",
              "  </thead>\n",
              "  <tbody>\n",
              "    <tr>\n",
              "      <th>0</th>\n",
              "      <td>uri</td>\n",
              "      <td>http://dbpedia.org/resource/C++</td>\n",
              "      <td>literal</td>\n",
              "      <td>en</td>\n",
              "      <td>C++</td>\n",
              "    </tr>\n",
              "    <tr>\n",
              "      <th>1</th>\n",
              "      <td>uri</td>\n",
              "      <td>http://dbpedia.org/resource/CLU_(programming_l...</td>\n",
              "      <td>literal</td>\n",
              "      <td>en</td>\n",
              "      <td>CLU (programming language)</td>\n",
              "    </tr>\n",
              "    <tr>\n",
              "      <th>2</th>\n",
              "      <td>uri</td>\n",
              "      <td>http://dbpedia.org/resource/COBOL</td>\n",
              "      <td>literal</td>\n",
              "      <td>en</td>\n",
              "      <td>COBOL</td>\n",
              "    </tr>\n",
              "    <tr>\n",
              "      <th>3</th>\n",
              "      <td>uri</td>\n",
              "      <td>http://dbpedia.org/resource/COMIT</td>\n",
              "      <td>literal</td>\n",
              "      <td>en</td>\n",
              "      <td>COMIT</td>\n",
              "    </tr>\n",
              "    <tr>\n",
              "      <th>4</th>\n",
              "      <td>uri</td>\n",
              "      <td>http://dbpedia.org/resource/CPL_(programming_l...</td>\n",
              "      <td>literal</td>\n",
              "      <td>en</td>\n",
              "      <td>CPL (programming language)</td>\n",
              "    </tr>\n",
              "  </tbody>\n",
              "</table>\n",
              "</div>"
            ],
            "text/plain": [
              "  thing.type  ...                 label.value\n",
              "0        uri  ...                         C++\n",
              "1        uri  ...  CLU (programming language)\n",
              "2        uri  ...                       COBOL\n",
              "3        uri  ...                       COMIT\n",
              "4        uri  ...  CPL (programming language)\n",
              "\n",
              "[5 rows x 5 columns]"
            ]
          },
          "metadata": {
            "tags": []
          },
          "execution_count": 6
        }
      ]
    },
    {
      "cell_type": "code",
      "metadata": {
        "colab": {
          "base_uri": "https://localhost:8080/"
        },
        "id": "Th21Xwj_ytvP",
        "outputId": "bebdb570-103c-43d7-cbed-82ba0622763e"
      },
      "source": [
        "wiki_page_list = list(set(results['label.value']))\n",
        "len(wiki_page_list)"
      ],
      "execution_count": 7,
      "outputs": [
        {
          "output_type": "execute_result",
          "data": {
            "text/plain": [
              "257"
            ]
          },
          "metadata": {
            "tags": []
          },
          "execution_count": 7
        }
      ]
    },
    {
      "cell_type": "code",
      "metadata": {
        "colab": {
          "base_uri": "https://localhost:8080/"
        },
        "id": "6jOSp2aazFcp",
        "outputId": "23511b1d-856d-42d6-e04b-f642debbab2a"
      },
      "source": [
        "wiki_page_list"
      ],
      "execution_count": 8,
      "outputs": [
        {
          "output_type": "execute_result",
          "data": {
            "text/plain": [
              "['IBM RPG',\n",
              " 'Visual Basic for Applications',\n",
              " 'Locomotive BASIC',\n",
              " 'Caml',\n",
              " 'C--',\n",
              " 'Ada (programming language)',\n",
              " 'Opa (programming language)',\n",
              " 'PLEX (programming language)',\n",
              " 'Seed7',\n",
              " 'Clascal',\n",
              " 'SPARK (programming language)',\n",
              " 'Not Quite C',\n",
              " 'Common Intermediate Language',\n",
              " 'OpenGL Shading Language',\n",
              " 'Pacbase',\n",
              " 'Logtalk',\n",
              " 'ML (programming language)',\n",
              " 'Common Lisp',\n",
              " 'Charm++',\n",
              " 'BCPL',\n",
              " 'Modula-2',\n",
              " 'Simula',\n",
              " 'MAD (programming language)',\n",
              " 'SR (programming language)',\n",
              " 'Tea (programming language)',\n",
              " 'AspectJ',\n",
              " 'Perl',\n",
              " 'ALGOL 60',\n",
              " 'Newsqueak',\n",
              " 'Arc (programming language)',\n",
              " 'Fortran',\n",
              " 'COBOL',\n",
              " 'Compiled language',\n",
              " 'Real-time Programming Language',\n",
              " 'Turing (programming language)',\n",
              " 'AutoLISP',\n",
              " 'FX-87',\n",
              " 'Scientific Vector Language',\n",
              " 'ALGOL W',\n",
              " 'OptimJ',\n",
              " 'OCaml',\n",
              " 'Verilog',\n",
              " 'ABSET',\n",
              " 'Language Of Temporal Ordering Specification',\n",
              " 'QML',\n",
              " 'Pharo',\n",
              " 'APL (programming language)',\n",
              " 'MPD (programming language)',\n",
              " 'VHDL',\n",
              " 'Rebol',\n",
              " 'Clarion (programming language)',\n",
              " 'Cω',\n",
              " 'Mirah (programming language)',\n",
              " 'IDL (programming language)',\n",
              " 'Swift (parallel scripting language)',\n",
              " 'Icon (programming language)',\n",
              " 'Spec Sharp',\n",
              " 'Miranda (programming language)',\n",
              " 'Boo (programming language)',\n",
              " 'Hop (software)',\n",
              " 'X10 (programming language)',\n",
              " 'XL (programming language)',\n",
              " 'ABC ALGOL',\n",
              " 'BASIC',\n",
              " '4th Dimension (software)',\n",
              " 'Ravenscar profile',\n",
              " 'Prolog',\n",
              " 'Component Pascal',\n",
              " 'Delphi (programming language)',\n",
              " 'Absys',\n",
              " 'Extended ML',\n",
              " 'Self (programming language)',\n",
              " 'Programming with Big Data in R',\n",
              " 'HyperTalk',\n",
              " 'Strongtalk',\n",
              " 'JavaScript',\n",
              " 'JOVIAL',\n",
              " 'Atari Pascal',\n",
              " 'Coarray Fortran',\n",
              " 'R (programming language)',\n",
              " 'Scala (programming language)',\n",
              " 'ABAP',\n",
              " 'General-purpose programming language',\n",
              " 'CLU (programming language)',\n",
              " 'NewtonScript',\n",
              " 'Scratch (programming language)',\n",
              " 'ALGOL',\n",
              " 'Cool (programming language)',\n",
              " 'ALGOL 68',\n",
              " 'Typed assembly language',\n",
              " 'F Sharp (programming language)',\n",
              " 'Factor (programming language)',\n",
              " 'Tritium (programming language)',\n",
              " 'Programming Language for Business',\n",
              " 'Instruction list',\n",
              " 'Processing (programming language)',\n",
              " 'D (programming language)',\n",
              " 'Modula',\n",
              " 'Hot Soup Processor',\n",
              " 'Pico (programming language)',\n",
              " 'Smalltalk',\n",
              " 'Objective-J',\n",
              " 'Swift (programming language)',\n",
              " 'SAIL (programming language)',\n",
              " 'IJVM',\n",
              " 'IBM BASIC',\n",
              " 'NetLogo',\n",
              " 'Erlang (programming language)',\n",
              " 'Io (programming language)',\n",
              " 'Groovy (programming language)',\n",
              " 'C++',\n",
              " 'MIRC scripting language',\n",
              " 'Java (programming language)',\n",
              " 'Brainfuck',\n",
              " 'YAML',\n",
              " 'Emacs Lisp',\n",
              " 'LFE (programming language)',\n",
              " 'FP (programming language)',\n",
              " 'Scheme Requests for Implementation',\n",
              " 'Maclisp',\n",
              " 'Hack (programming language)',\n",
              " 'AWK',\n",
              " 'Curl (programming language)',\n",
              " 'A+ (programming language)',\n",
              " 'PHP',\n",
              " 'PL/pgSQL',\n",
              " 'Cg (programming language)',\n",
              " 'Red (programming language)',\n",
              " 'Noop',\n",
              " 'NesC',\n",
              " 'Vvvv',\n",
              " 'C (programming language)',\n",
              " 'Go (programming language)',\n",
              " 'B (programming language)',\n",
              " 'DRAKON',\n",
              " 'Alef (programming language)',\n",
              " 'STOS BASIC',\n",
              " 'Object REXX',\n",
              " 'Vala (programming language)',\n",
              " 'Clipper (programming language)',\n",
              " 'Sather',\n",
              " 'ColdFusion Markup Language',\n",
              " 'VBScript',\n",
              " 'NetRexx',\n",
              " 'Oberon (programming language)',\n",
              " 'Ratfor',\n",
              " 'Ceylon (programming language)',\n",
              " 'Eiffel (programming language)',\n",
              " 'Jolie (programming language)',\n",
              " 'Genie (programming language)',\n",
              " 'Charm (programming language)',\n",
              " 'CPL (programming language)',\n",
              " 'Haskell (programming language)',\n",
              " 'Aldor',\n",
              " 'Script.NET',\n",
              " 'Mercury (programming language)',\n",
              " 'ECMAScript',\n",
              " 'Logo (programming language)',\n",
              " 'Visual Basic',\n",
              " 'Rexx',\n",
              " 'Graph Modelling Language',\n",
              " 'KISS (system)',\n",
              " 'Python (programming language)',\n",
              " 'JScript',\n",
              " 'Fantom (programming language)',\n",
              " 'Mizar system',\n",
              " 'J (programming language)',\n",
              " 'Kotlin (programming language)',\n",
              " 'Curry (programming language)',\n",
              " 'Programmation Automatique des Formules',\n",
              " 'Modula-3',\n",
              " 'FLOW-MATIC',\n",
              " 'Argus (programming language)',\n",
              " 'Haxe',\n",
              " 'NewLISP',\n",
              " 'EGL (programming language)',\n",
              " 'ActionScript',\n",
              " 'Occam (programming language)',\n",
              " 'TRAC (programming language)',\n",
              " 'Elixir (programming language)',\n",
              " 'CoffeeScript',\n",
              " 'Microsoft Small Basic',\n",
              " 'E (programming language)',\n",
              " 'TELCOMP',\n",
              " 'Interlisp',\n",
              " 'PL/I',\n",
              " 'Amiga E',\n",
              " 'Fortress (programming language)',\n",
              " 'Oxygene (programming language)',\n",
              " 'Auto-lead Data Format',\n",
              " 'Visual Basic .NET',\n",
              " 'CLIST',\n",
              " 'Oz (programming language)',\n",
              " 'AutoIt',\n",
              " 'Julia (programming language)',\n",
              " 'Joy (programming language)',\n",
              " 'Rust (programming language)',\n",
              " 'Embedded style language',\n",
              " 'ACC (programming language)',\n",
              " 'Nyquist (programming language)',\n",
              " 'Sawzall (programming language)',\n",
              " 'UIML',\n",
              " 'SNOBOL',\n",
              " 'Averest',\n",
              " 'PL/M',\n",
              " 'Open Programming Language',\n",
              " 'JHTML',\n",
              " 'Planner (programming language)',\n",
              " 'Web Language',\n",
              " 'Tcl',\n",
              " 'SETL',\n",
              " 'ELAN (programming language)',\n",
              " 'Euler (programming language)',\n",
              " 'Dart (programming language)',\n",
              " 'VisSim',\n",
              " 'AppleScript',\n",
              " 'AMPL',\n",
              " 'Plankalkül',\n",
              " 'Objective-C',\n",
              " 'C/AL',\n",
              " 'Cybil (programming language)',\n",
              " 'Sed',\n",
              " 'COMAL',\n",
              " 'LiveScript',\n",
              " 'ISWIM',\n",
              " 'Constraint Handling Rules',\n",
              " 'Gambas',\n",
              " 'Napier88',\n",
              " 'Alice (programming language)',\n",
              " 'Modelica',\n",
              " 'Flow chart language',\n",
              " 'Language binding',\n",
              " 'Information Processing Language',\n",
              " 'Unified Parallel C',\n",
              " 'Limbo (programming language)',\n",
              " 'Gödel (programming language)',\n",
              " 'M4 (computer language)',\n",
              " 'Nemerle',\n",
              " 'QBasic',\n",
              " 'Clojure',\n",
              " 'ABC (programming language)',\n",
              " 'UCBLogo',\n",
              " 'Dylan (programming language)',\n",
              " 'Cobra (programming language)',\n",
              " 'PEARL (programming language)',\n",
              " 'KOMPILER',\n",
              " 'Euphoria (programming language)',\n",
              " 'ProvideX',\n",
              " 'Visual Objects',\n",
              " 'C Sharp (programming language)',\n",
              " 'Scheme (programming language)',\n",
              " 'SCUMM',\n",
              " 'COMIT',\n",
              " 'MetaPost',\n",
              " 'Standard ML',\n",
              " 'ΛProlog',\n",
              " 'PureBasic']"
            ]
          },
          "metadata": {
            "tags": []
          },
          "execution_count": 8
        }
      ]
    },
    {
      "cell_type": "code",
      "metadata": {
        "colab": {
          "base_uri": "https://localhost:8080/"
        },
        "id": "04RMuRTMzGzu",
        "outputId": "7e2b3a5c-a57b-4db3-eb1d-0cc66f453129"
      },
      "source": [
        "%%time\n",
        "list_wiki_page_objs = []\n",
        "for each_page in wiki_page_list:\n",
        "  try:\n",
        "    list_wiki_page_objs.append(wikipedia.page(each_page).content)\n",
        "  except Exception as e:\n",
        "    continue"
      ],
      "execution_count": 9,
      "outputs": [
        {
          "output_type": "stream",
          "text": [
            "CPU times: user 13.6 s, sys: 939 ms, total: 14.5 s\n",
            "Wall time: 7min 14s\n"
          ],
          "name": "stdout"
        }
      ]
    },
    {
      "cell_type": "code",
      "metadata": {
        "colab": {
          "base_uri": "https://localhost:8080/"
        },
        "id": "EKh0xbpV1-6L",
        "outputId": "30006d83-d3c8-4ae2-e1bd-4fd456a5ade0"
      },
      "source": [
        "len(list_wiki_page_objs)"
      ],
      "execution_count": 10,
      "outputs": [
        {
          "output_type": "execute_result",
          "data": {
            "text/plain": [
              "223"
            ]
          },
          "metadata": {
            "tags": []
          },
          "execution_count": 10
        }
      ]
    },
    {
      "cell_type": "code",
      "metadata": {
        "colab": {
          "base_uri": "https://localhost:8080/",
          "height": 122
        },
        "id": "FOubjDLq2KWM",
        "outputId": "70d1486f-a8ee-4ccc-a424-c42a4020ecbc"
      },
      "source": [
        "list_wiki_page_objs[0]"
      ],
      "execution_count": 11,
      "outputs": [
        {
          "output_type": "execute_result",
          "data": {
            "application/vnd.google.colaboratory.intrinsic+json": {
              "type": "string"
            },
            "text/plain": [
              "'RPG is a high-level programming language for business applications, introduced in 1959 for the IBM 1401. It is most well known as the primary programming language of IBM\\'s midrange computer product line, including the IBM i operating system. RPG has traditionally featured a number of distinctive concepts, such as the program cycle, and the column-oriented syntax. The most recent version is RPG IV, which includes a number of modernization features, including free-form syntax.\\n\\n\\n== Platforms ==\\nThe RPG programming language originally was created by IBM for their 1401 systems. They also produced an implementation for the System/360, and it became the primary programming language for their midrange computer product line, (the System/3, System/32, System/34, System/38, System/36 and AS/400). There have also been implementations for the Digital VAX, Sperry Univac BC/7, Univac system 80, Siemens BS2000, Burroughs B700, B1700, Hewlett Packard HP 3000, the ICL 2900 series, Honeywell 6220 and 2020, Four-Phase IV/70 and IV/90 series, Singer System 10 and WANG VS, as well as miscellaneous compilers and runtime environments for Unix-based systems, such as Infinite36 (formerly Unibol 36), and PCs (Baby/400, Lattice-RPG).\\nRPG II applications are still supported under the IBM z/VSE and z/OS operating systems, Unisys MCP, Microsoft Windows and OpenVMS.\\n\\n\\n== Early history ==\\nOriginally developed by IBM in 1959, the name Report Program Generator was descriptive of the purpose of the language: generation of reports from data files. FOLDOC accredits Wilf Hey with work at IBM that resulted in the development of RPG. FARGO (Fourteen-o-one Automatic Report Generation Operation) was the predecessor to RPG on the IBM 1401.\\nBoth languages were intended to facilitate ease of transition for IBM tabulating machine (Tab) unit record equipment technicians to the then-new computers. Tab machine technicians were accustomed to plugging wires into control panels to implement input, output, control and counter operations (add, subtract, multiply, divide).  Tab machines programs were executed by impulses emitted in a machine cycle; hence, FARGO and RPG emulated the notion of the machine cycle with the program cycle. RPG was superior to and rapidly replaced FARGO as the report generator program of choice.\\nThe alternative languages generally available at the time were Assembler, COBOL or FORTRAN. Assembler and COBOL were more common in mainframe business operations (System/360 models 30 and above) and RPG more commonly used by customers who were in transition from tabulating equipment (System/360 model 20).\\n\\n\\n=== RPG II ===\\n\\nRPG II was introduced with the System/3 series of computers.  It was later used on System/32, System/34, and System/36, with an improved version of the language.  RPG II was also available for larger systems, including the IBM System/370 mainframe running DOS/VSE (then VSE/SP, VSE/ESA, and z/VSE). ICL also produced a version on its VME/K operating system.\\nIn the early days of RPG, its major strength was the program cycle. A programmer would write code to process an individual record, and the program cycle would execute the change against every record of a file, taking care of the control flow. At that time each record (individual punched card) would be compared to each line in the program, which would act upon the record, or not, based upon whether that line had an \"indicator\" turned \"on\" or \"off\". The indicator consisted of a set of logical variables numbered 01–99 for user-defined purposes, or other smaller sets based upon record, field, or report processing functions. The concept of level breaks and matching records is unique to the RPG II language, and was originally developed with card readers in mind. The matching record feature of the cycle enabled easy processing of files having a header-to-detail relationship. RPG programs written to take advantage of the program cycle could produce complex reports with far fewer lines of computer code than programs written in COBOL and other business-centric languages.  \\nThe program File Specifications, listed all files being written to, read from or updated, followed by Data Definition Specifications containing program elements such as Data Structures and dimensional arrays, much like a \"Working-Storage\" section of a COBOL program. This is followed by Calculation Specifications, which contain the executable instructions. Output Specifications can follow which can be used to determine the layout of other files or reports. Alternatively files, some data structures and reports can be defined externally, mostly eliminating the need to hand code input and output (\"I/O\") specifications.\\n\\n\\n=== RPG III ===\\n\\nRPG III was created for the System/38 and its successor the AS/400.  RPG III significantly departed from the original language, providing modern structured constructs like IF-ENDIF blocks, DO loops, and subroutines.  RPG III was also available for larger systems including the IBM System/370 mainframe running OS/VS1. It was also available from Unisys for the VS/9 operating system running on the UNIVAC Series 90 mainframes.\\nSince the introduction of the IBM System/38 in 1979 most RPG programmers discontinued use of the cycle in favor of controlling program flow with standard looping constructs, although IBM has continued to provide backward compatibility for the cycle.\\n\\n\\n==== DE/RPG ====\\nDE/RPG or Data Entry RPG was exclusively available on the IBM 5280 series of data-entry workstations in the early \\'80s. It was similar to RPG III but lacking external Data Descriptions (DDS) to describe data(files) like on the System/38 and its successors. Instead, the DDS part had to be included into the RPG source itself.\\n\\n\\n==== RPG/400 ====\\nRPG/400 was effectively RPG III running on AS/400. IBM renamed the RPG compiler as \"RPG/400\" but at the time of its introduction it was identical to the RPG III compiler on System/38. Virtually all IBM products were rebranded as xxx/400 and the RPG compiler was no exception. RPG III compiled with the RPG/400 compiler offered nothing new to the RPG III language until IBM began development of new operation codes, such as SCAN, CAT and XLATE after several years of AS/400 availability. These enhancements to RPG III were not available in the System/38 version of RPG III.\\n\\n\\n==== Third party developments ====\\nA company called Amalgamated Software of North America (ASNA) produced a third-party compiler for the System/36 in the late 1980s called 400RPG. Another company called BPS created a third-party pre-processor called RPG II-1/2. Both of these products allowed users to write RPG II programs with RPG III opcodes.\\n\\n\\n== RPG IV ==\\nRPG IV, a.k.a. RPGLE or ILE RPG,) was released in 1994 as part of the V3R2 release of OS/400 (now known as IBM i). With the release of RPG IV, the RPG name was officially no longer an initialism. RPG IV offered a greater variety of expressions within its Extended Factor-2 Calculation Specification and, later in life, its free-format Calculation Specifications and Procedure syntax. RPG IV is the only version of RPG supported by IBM in the current IBM i platform.\\nIn 2001, with the release of OS/400 V5R1, RPG IV offered greater freedom for calculations than offered by the Extended Factor-2 Calculation Specification: a free-format text-capable source entry, as an alternative to the original column-dependent source format. The \"/FREE\" calculation did not require the operation code to be placed in a particular column; the operation code is optional for the EVAL and CALLP operations; and syntax generally more closely resembles that of mainstream, general-purpose programming languages. Until November 2013, the free format applied exclusively to the calculation specifications. With the IBM i V7R1 TR7 upgrade to the language, the \"/free\" and \"/end-free\" calculations are no longer necessary, and the language has finally broken the ties to punched cards.\\nWhile editing can still be done via SEU, the simple green screen editor (even though syntax checking is not supported for features introduced from IBM i V7R1 onward), a long progression of tools has been developed over time. Some of these have included CODE/400 and Visual Age for RPG, which were developed by IBM. Currently the preferred editing platform is IBM\\'s Websphere Development Studio client, (WDSc) now named RDi (Rational Developer for i), which is a customized implementation of Eclipse.  Eclipse, and therefore RDi, runs primarily on personal computers and other devices. IBM is continually extending its capabilities and adding more built-in functions (BIFs).  It has the ability to link to Java objects, and IBM i APIs; it can be used to write CGI programs with the help of IBM\\'s Cgidev2 Web toolkit, the RPG Toolbox, and other commercial Web-enabled packages. Even with the changes, it retains a great deal of backward compatibility, so an RPG program written 37 years ago could run today with little or no modification.\\nThe SQL precompiler allows current RPG developers to take advantage of IBM\\'s cost-based SQE (SQL Query Engine).  With the traditional F-Spec approach a developer had to identify a specific access path to a data set, now they can implement standard embedded SQL statements directly in the program.  When compiled, the SQL precompiler transforms SQL statements into RPG statements which call the database manager programs that ultimately implement the query request.\\nThe RPG IV language is based on the EBCDIC character set, but also supports UTF-8, UTF-16 and many other character sets. The threadsafe aspects of the language are considered idiosyncratic by some as the compiler team has addressed threads by giving each thread its own static storage, rather than make the RPG run-time environment re-entrant. This has been noted to muddle the distinction between a thread and a process (making RPG IV threads a kind of hybrid between threads and processes).\\nIn 2010, IBM launched RPG Open Access, also known as Rational Open Access: RPG Edition. It allows new I/O handlers to be defined by a programmer - enabling data to be read from and written to sources which RPG does not provide inbuilt support for.\\n\\n\\n== Data types ==\\nRPG supports the following data types.\\nNote:The character in the data type column is the character that is encoded on the Definition Specification in the column designated for data type.  To compare, in a language like C where definitions of variables are free-format and would use a keyword such as int to declare an integer variable, in RPG, a variable is defined with a fixed-format Definition Specification.  In the Definition Specification, denoted by a letter D in column 6 of a source line, the data type character would be encoded in column 40.  Also, if the data type character is omitted, that is, left blank, the default is A if no decimal positions are specified, P when decimal positions are specified for stand-along fields, and S (ZONED) when decimal positions are specified within a data structure.\\n\\n\\n== Example code ==\\nThe following program receives a customer number as an input parameter and returns the name and address as output parameters.\\nThis is the most primitive version of RPG IV syntax. The same program is shown later with gradually more modern versions of the syntax and gradually more relaxed rules.\\n\\n      * Historically RPG was columnar in nature, though free-formatting\\n      * was allowed under particular circumstances.\\n      * The purpose of various lines code are determined by a\\n      * letter code in column 6.\\n      * An asterisk (*) in column 7 denotes a comment line\\n\\n      * \"F\" (file) specs define files and other i/o devices\\n     F ARMstF1   IF   E       K     Disk    Rename(ARMST:RARMST)\\n\\n      * \"D\" (data) specs are used to define variables\\n     D pCusNo          S              6p\\n     D pName           S             30a\\n     D pAddr1          S             30a\\n     D pAddr2          S             30a\\n     D pCity           S             25a\\n     D pState          S              2a\\n     D pZip            S             10a\\n\\n      * \"C\" (calculation) specs are used for executable statements\\n      * Parameters are defined using plist and parm opcodes\\n     C     *entry        plist\\n     C                   parm                    pCusNo\\n     C                   parm                    pName\\n     C                   parm                    pAddr1\\n     C                   parm                    pAddr2\\n     C                   parm                    pCity\\n     C                   parm                    pState\\n     C                   parm                    pZip\\n\\n      * The \"chain\" command is used for random access of a keyed file\\n     C     pCusNo        chain     ARMstF1\\n\\n      * If a record is found, move fields from the file into parameters\\n     C                   if        %found\\n     C                   eval      pName  = ARNm01\\n     C                   eval      pAddr1 = ARAd01\\n     C                   eval      pAddr2 = ARAd02\\n     C                   eval      pCity  = ARCy01\\n     C                   eval      pState = ARSt01\\n     C                   eval      pZip   = ARZp15\\n     C                   endif\\n\\n      * RPG makes use of switches.  One switch \"LR\" originally stood for \"last record\"\\n      * LR flags the program and its dataspace as removable from memory\\n\\n     C                   eval      *InLR = *On\\n\\nThe same program using free calculations available starting in V5R1:\\n\\n      * \"F\" (file) specs define files and other i/o devices\\n     FARMstF1   IF   E        K     Disk    Rename(ARMST:RARMST)\\n\\n      * \"D\" (data) specs are used to define variables and parameters\\n      * The \"prototype\" for the program is in a separate file\\n      * allowing other programs to call it\\n      /copy cust_pr\\n      * The \"procedure interface\" describes the *ENTRY parameters\\n     D getCustInf      PI\\n     D  pCusNo                        6p 0   const\\n     D  pName                        30a\\n     D  pAddr1                       30a\\n     D  pAddr2                       30a\\n     D  pCity                        25a\\n     D  pState                        2a\\n     D  pZip                         10a\\n      /free\\n        // The \"chain\" command is used for random access of a keyed file\\n        chain pCusNo ARMstF1;\\n\\n        // If a record is found, move fields from the file into parameters\\n        if %found;\\n           pName  = ARNm01;\\n           pAddr1 = ARAd01;\\n           pAddr2 = ARAd02;\\n           pCity  = ARCy01;\\n           pState = ARSt01;\\n           pZip   = ARZp15;\\n        endif;\\n\\n      // RPG makes use of switches.  One switch \"LR\" originally stood for \"last record\"\\n      // LR actually flags the program and its dataspace as removable from memory.\\n        *InLR = *On;\\n      /end-free\\n\\nAssume the ARMSTF1 example table was created using the following SQL Statement:\\n\\nThe same program using free calculations and embedded SQL:\\n\\n      * RPG IV no longer requires the use of the *INLR indicator to terminate a program.\\n      * by using the MAIN keyword on the \"H\" (Header) spec, and identifying the \"main\" or\\n      * entry procedure name, the program will begin and end normally without using the\\n      * decades-old RPG Cycle and instead a more \"C like\" begin and end logic.\\n     H  MAIN(getCustInf)\\n      * \"D\" (data) specs are used to define variables and parameters\\n      * The \"prototype\" for the program is in a separate file\\n      * allowing other programs to call it\\n      /copy cust_pr\\n      * The \"procedure interface\" describes the *ENTRY parameters\\n     P getCustInf      B\\n     D getCustInf      PI\\n     D  pCusNo                        6p 0   const\\n     D  pName                        30a\\n     D  pAddr1                       30a\\n     D  pAddr2                       30a\\n     D  pCity                        25a\\n     D  pState                        2a\\n     D  pZip                         10a\\n      /free\\n        exec sql select arName, arAddr1, arAdd2, arCity, arStte, arZip\\n                 into  :pName, :pAddr1, :pAddr2, :pCity, :pState, :pZip\\n                 from   ARMstF1\\n                 where  arCNum = :pCusNo\\n                 for fetch only\\n                 fetch first 1 row only\\n                 optimize for 1 row\\n                 with CS;\\n      /end-free\\n     P GetCustInf      E\\n\\nAs of V7R1 of the operating system, the above program would not necessarily need the prototype in a separate file, so it could be completely written as:\\n\\nLastly, if you apply the compiler PTFs related Technology Refresh 7 (TR7) to your 7.1 operating system, then the above program can be coded completely in free-form, as follows:\\n\\n\\n== See also ==\\nIBM RPG II\\n\\n\\n== References ==\\n\\n\\n== Further reading ==\\n\"9PAC, Report Generator\". History of Programming Languages (HOPL), Murdoch University, AU. 2006. Archived from the original on 2010-12-24. Retrieved 2008-04-01.\\n\"RPG, Report Program Generator\". History of Programming Languages (HOPL), Murdoch University, AU. 2006. Archived from the original on 2011-04-15. Retrieved 2008-04-01.\\nDuCharme, Bob (2006-02-26). \"Pulling data out of computers in the mid-twentieth and early twenty-first centuries\".\\nCozzi, Robert (1996). \"The Modern RPG IV Language\".\\nShelly, Gary B.; Thomas J. Cashman (1977). Introduction to Computer Programming RPG. Fullerton, California: Anaheim Publishing Company. ISBN 0-88236-225-9.\\n\\n\\n== External links ==\\nSmith, Brian R.; Martin Barbeau; Susan Gantner; Jon Paris; Zdravko Vincetic; Vladimir Zupka (April 25, 2000). \"Who Knew You Could Do That with RPG IV? A Sorcerer\\'s Guide to System Access and More\" (PDF). IBM International Technical Support Organization. Retrieved 2012-02-18. \"This redbook is focused on RPG IV as a modern, thriving, and rich application development language for the 21st century.\"\\nMidrange.com — A large number of code examples are available here\\nRPGPGM.COM — An extensive resource of articles giving examples of RPG code and related programming\\nRPG Open — Free (open source) resources for RPG IV and IBM i application development.\\nIBM (1964). IBM 1401 RPG manual (PDF). C24-3261-1.\\nIBM (2016). ILE RPG Programmer\\'s Guide (PDF). SC09-2507-10.\\nRPG II for MVS, OS/390 and z/OS — Status of the IBM RPG II product in z/OS\\nFor Old Timers — Online RPG I compiler for small experiments and tinkering\\n[1] rpg programmers\\nRPGLE Tutorial for beginers - AS400i.com'"
            ]
          },
          "metadata": {
            "tags": []
          },
          "execution_count": 11
        }
      ]
    },
    {
      "cell_type": "code",
      "metadata": {
        "id": "GUfQSINj3dYq"
      },
      "source": [
        "wordnet_lemmatizer = WordNetLemmatizer()\n",
        "\n",
        "def text_preprocessing(text):\n",
        "  cleaned_text = re.sub(r'[^a-zA-Z\\d\\s\\']+', '', text)\n",
        "  tokenized_text = word_tokenize(cleaned_text.lower())\n",
        "  lemmatized_text = [wordnet_lemmatizer.lemmatize(token) for token in tokenized_text]\n",
        "  return lemmatized_text"
      ],
      "execution_count": 12,
      "outputs": []
    },
    {
      "cell_type": "code",
      "metadata": {
        "colab": {
          "base_uri": "https://localhost:8080/"
        },
        "id": "KbWmFTHO31pf",
        "outputId": "7ed0bdd5-ff5c-47f7-a117-3829f666f78a"
      },
      "source": [
        "%%time\n",
        "list_wiki_page_objs_tokenized = [text_preprocessing(each_wiki_page_content) for each_wiki_page_content in list_wiki_page_objs]"
      ],
      "execution_count": 13,
      "outputs": [
        {
          "output_type": "stream",
          "text": [
            "CPU times: user 4.43 s, sys: 137 ms, total: 4.56 s\n",
            "Wall time: 4.54 s\n"
          ],
          "name": "stdout"
        }
      ]
    },
    {
      "cell_type": "code",
      "metadata": {
        "id": "08GNF2L25gpJ"
      },
      "source": [
        "model = Word2Vec(list_wiki_page_objs_tokenized, max_vocab_size=200, min_count=5)"
      ],
      "execution_count": 14,
      "outputs": []
    },
    {
      "cell_type": "code",
      "metadata": {
        "colab": {
          "base_uri": "https://localhost:8080/"
        },
        "id": "xtjcZ4l972z1",
        "outputId": "53c25bf3-22f0-42ad-932d-2e8cee86c493"
      },
      "source": [
        "model.wv.most_similar('programming')"
      ],
      "execution_count": 15,
      "outputs": [
        {
          "output_type": "execute_result",
          "data": {
            "text/plain": [
              "[('language', 0.9641199111938477),\n",
              " ('computer', 0.8455070853233337),\n",
              " ('implementation', 0.7936789989471436),\n",
              " ('fortran', 0.7877934575080872),\n",
              " ('software', 0.7842055559158325),\n",
              " ('based', 0.7779183387756348),\n",
              " ('python', 0.7745454907417297),\n",
              " ('development', 0.7593181133270264),\n",
              " ('available', 0.7500693798065186),\n",
              " ('standard', 0.7445951104164124)]"
            ]
          },
          "metadata": {
            "tags": []
          },
          "execution_count": 15
        }
      ]
    },
    {
      "cell_type": "code",
      "metadata": {
        "id": "Yl1TWirc9jqR"
      },
      "source": [
        "pca = PCA(n_components=2)"
      ],
      "execution_count": 16,
      "outputs": []
    },
    {
      "cell_type": "code",
      "metadata": {
        "id": "2BYDMdYU-UBX"
      },
      "source": [
        "vocab = list(model.wv.vocab)"
      ],
      "execution_count": 17,
      "outputs": []
    },
    {
      "cell_type": "code",
      "metadata": {
        "id": "_QU6xpXC-EOE"
      },
      "source": [
        "X_pca = pca.fit_transform(model.wv[vocab])"
      ],
      "execution_count": 18,
      "outputs": []
    },
    {
      "cell_type": "code",
      "metadata": {
        "colab": {
          "base_uri": "https://localhost:8080/",
          "height": 846
        },
        "id": "XeIDa7JP-rmN",
        "outputId": "9eda104e-e679-4ccf-d504-7313c26d12d0"
      },
      "source": [
        "plt.figure(figsize=[20, 15])\n",
        "plt.scatter(X_pca[:, 0], X_pca[:, 1])\n",
        "for i, word in enumerate(vocab):\n",
        "    plt.annotate(word, xy = (X_pca[i, 0], X_pca[i, 1]))\n",
        "plt.xticks([])\n",
        "plt.yticks([])\n",
        "plt.show()"
      ],
      "execution_count": 19,
      "outputs": [
        {
          "output_type": "display_data",
          "data": {
            "image/png": "[encoded data removed]",
            "text/plain": [
              "<Figure size 1440x1080 with 1 Axes>"
            ]
          },
          "metadata": {
            "tags": []
          }
        }
      ]
    },
    {
      "cell_type": "markdown",
      "metadata": {
        "id": "mn_3yU5_E8Eo"
      },
      "source": [
        "Thanks for visiting!"
      ]
    }
  ]
}