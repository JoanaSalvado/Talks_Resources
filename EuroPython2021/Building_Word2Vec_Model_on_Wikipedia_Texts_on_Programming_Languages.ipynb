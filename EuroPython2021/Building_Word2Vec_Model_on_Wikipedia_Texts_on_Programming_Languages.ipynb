{
  "nbformat": 4,
  "nbformat_minor": 0,
  "metadata": {
    "colab": {
      "name": "Building Word2Vec Model on Wikipedia Texts on Programming Languages.ipynb",
      "provenance": [],
      "collapsed_sections": [],
      "authorship_tag": "ABX9TyPMo2PHl983rKnCuPV9s2gm",
      "include_colab_link": true
    },
    "kernelspec": {
      "name": "python3",
      "display_name": "Python 3"
    },
    "language_info": {
      "name": "python"
    }
  },
  "cells": [
    {
      "cell_type": "markdown",
      "metadata": {
        "id": "view-in-github",
        "colab_type": "text"
      },
      "source": [
        "<a href=\"https://colab.research.google.com/github/royn5618/Talks_Resources/blob/main/EuroPython2021/Building_Word2Vec_Model_on_Wikipedia_Texts_on_Programming_Languages.ipynb\" target=\"_parent\"><img src=\"https://colab.research.google.com/assets/colab-badge.svg\" alt=\"Open In Colab\"/></a>"
      ]
    },
    {
      "cell_type": "markdown",
      "metadata": {
        "id": "Q1Y76jGNELAV"
      },
      "source": [
        "In this example, I have used SPARQL Query to query the **Wikipedia Page Names**. The names are in **rdfs:label** property. Once I had the list of wikipedia page names, the next step is to get the contents using **Wikipedia Python Library**, process it and create a **Word2Vec model using Gensim**."
      ]
    },
    {
      "cell_type": "code",
      "metadata": {
        "colab": {
          "base_uri": "https://localhost:8080/"
        },
        "id": "lOAXcHCsxwXY",
        "outputId": "08ae0a94-a179-4642-930b-70a01b9634e5"
      },
      "source": [
        "!pip install beautifulsoup4\n",
        "!pip install wikipedia\n",
        "!pip install SPARQLWrapper\n",
        "!pip install gensim"
      ],
      "execution_count": 1,
      "outputs": [
        {
          "output_type": "stream",
          "text": [
            "Requirement already satisfied: beautifulsoup4 in /usr/local/lib/python3.7/dist-packages (4.6.3)\n",
            "Collecting wikipedia\n",
            "  Downloading wikipedia-1.4.0.tar.gz (27 kB)\n",
            "Requirement already satisfied: beautifulsoup4 in /usr/local/lib/python3.7/dist-packages (from wikipedia) (4.6.3)\n",
            "Requirement already satisfied: requests<3.0.0,>=2.0.0 in /usr/local/lib/python3.7/dist-packages (from wikipedia) (2.23.0)\n",
            "Requirement already satisfied: urllib3!=1.25.0,!=1.25.1,<1.26,>=1.21.1 in /usr/local/lib/python3.7/dist-packages (from requests<3.0.0,>=2.0.0->wikipedia) (1.24.3)\n",
            "Requirement already satisfied: idna<3,>=2.5 in /usr/local/lib/python3.7/dist-packages (from requests<3.0.0,>=2.0.0->wikipedia) (2.10)\n",
            "Requirement already satisfied: certifi>=2017.4.17 in /usr/local/lib/python3.7/dist-packages (from requests<3.0.0,>=2.0.0->wikipedia) (2021.5.30)\n",
            "Requirement already satisfied: chardet<4,>=3.0.2 in /usr/local/lib/python3.7/dist-packages (from requests<3.0.0,>=2.0.0->wikipedia) (3.0.4)\n",
            "Building wheels for collected packages: wikipedia\n",
            "  Building wheel for wikipedia (setup.py) ... \u001b[?25l\u001b[?25hdone\n",
            "  Created wheel for wikipedia: filename=wikipedia-1.4.0-py3-none-any.whl size=11696 sha256=b00e5c202bf52219426f3ded8c7357d7af1180a7dede364a037498e23460b07d\n",
            "  Stored in directory: /root/.cache/pip/wheels/15/93/6d/5b2c68b8a64c7a7a04947b4ed6d89fb557dcc6bc27d1d7f3ba\n",
            "Successfully built wikipedia\n",
            "Installing collected packages: wikipedia\n",
            "Successfully installed wikipedia-1.4.0\n",
            "Collecting SPARQLWrapper\n",
            "  Downloading SPARQLWrapper-1.8.5-py3-none-any.whl (26 kB)\n",
            "Collecting rdflib>=4.0\n",
            "  Downloading rdflib-6.0.0-py3-none-any.whl (376 kB)\n",
            "\u001b[K     |████████████████████████████████| 376 kB 5.5 MB/s \n",
            "\u001b[?25hRequirement already satisfied: setuptools in /usr/local/lib/python3.7/dist-packages (from rdflib>=4.0->SPARQLWrapper) (57.2.0)\n",
            "Requirement already satisfied: pyparsing in /usr/local/lib/python3.7/dist-packages (from rdflib>=4.0->SPARQLWrapper) (2.4.7)\n",
            "Collecting isodate\n",
            "  Downloading isodate-0.6.0-py2.py3-none-any.whl (45 kB)\n",
            "\u001b[K     |████████████████████████████████| 45 kB 3.3 MB/s \n",
            "\u001b[?25hRequirement already satisfied: six in /usr/local/lib/python3.7/dist-packages (from isodate->rdflib>=4.0->SPARQLWrapper) (1.15.0)\n",
            "Installing collected packages: isodate, rdflib, SPARQLWrapper\n",
            "Successfully installed SPARQLWrapper-1.8.5 isodate-0.6.0 rdflib-6.0.0\n",
            "Requirement already satisfied: gensim in /usr/local/lib/python3.7/dist-packages (3.6.0)\n",
            "Requirement already satisfied: scipy>=0.18.1 in /usr/local/lib/python3.7/dist-packages (from gensim) (1.4.1)\n",
            "Requirement already satisfied: six>=1.5.0 in /usr/local/lib/python3.7/dist-packages (from gensim) (1.15.0)\n",
            "Requirement already satisfied: numpy>=1.11.3 in /usr/local/lib/python3.7/dist-packages (from gensim) (1.19.5)\n",
            "Requirement already satisfied: smart-open>=1.2.1 in /usr/local/lib/python3.7/dist-packages (from gensim) (5.1.0)\n"
          ],
          "name": "stdout"
        }
      ]
    },
    {
      "cell_type": "code",
      "metadata": {
        "colab": {
          "base_uri": "https://localhost:8080/"
        },
        "id": "hWMiZYJqxyts",
        "outputId": "0182f451-1f6a-45e5-ef6c-798fd9d63aa1"
      },
      "source": [
        "from SPARQLWrapper import SPARQLWrapper, JSON, N3\n",
        "import pandas as pd\n",
        "from bs4 import BeautifulSoup\n",
        "import wikipedia\n",
        "\n",
        "import re\n",
        "\n",
        "import nltk\n",
        "nltk.download('punkt')\n",
        "from nltk.tokenize import word_tokenize\n",
        "from nltk.stem import WordNetLemmatizer\n",
        "nltk.download('wordnet')\n",
        "\n",
        "from gensim.models import Word2Vec # This is Gensim 3.6.0\n",
        "\n",
        "import matplotlib.pyplot as plt\n",
        "import seaborn as sns\n",
        "sns.set_theme(style=\"darkgrid\")\n",
        "\n",
        "from sklearn.decomposition import PCA\n",
        "\n",
        "import warnings\n",
        "warnings.filterwarnings('ignore')"
      ],
      "execution_count": 2,
      "outputs": [
        {
          "output_type": "stream",
          "text": [
            "[nltk_data] Downloading package punkt to /root/nltk_data...\n",
            "[nltk_data]   Unzipping tokenizers/punkt.zip.\n",
            "[nltk_data] Downloading package wordnet to /root/nltk_data...\n",
            "[nltk_data]   Unzipping corpora/wordnet.zip.\n"
          ],
          "name": "stdout"
        }
      ]
    },
    {
      "cell_type": "code",
      "metadata": {
        "id": "ovdhP-Q9x7JC"
      },
      "source": [
        "sparql = SPARQLWrapper('https://dbpedia.org/sparql')"
      ],
      "execution_count": 3,
      "outputs": []
    },
    {
      "cell_type": "code",
      "metadata": {
        "id": "IV9Sww-1x9MA"
      },
      "source": [
        "def exec_query(sparql, query):\n",
        "    sparql.setQuery(query)\n",
        "    sparql.setReturnFormat(JSON)\n",
        "    results = sparql.query().convert()\n",
        "    results = pd.json_normalize(results['results']['bindings'])\n",
        "    return results"
      ],
      "execution_count": 4,
      "outputs": []
    },
    {
      "cell_type": "markdown",
      "metadata": {
        "id": "giEQs4uz1Nvl"
      },
      "source": [
        "**YAGO** (Yet Another Great Ontology) is an open source knowledge base developed at the Max Planck Institute for Computer Science in Saarbrücken.\n",
        "\n",
        "Ref - https://en.wikipedia.org/wiki/YAGO_(database)"
      ]
    },
    {
      "cell_type": "code",
      "metadata": {
        "colab": {
          "base_uri": "https://localhost:8080/",
          "height": 35
        },
        "id": "ZcGpqbo_yApy",
        "outputId": "2495216a-6407-44a8-f20d-a1b2fef306d0"
      },
      "source": [
        "query = ''' SELECT ?thing, ?label \n",
        "WHERE { ?thing a dbo:ProgrammingLanguage; a dbo:Language; a yago:WikicatProgrammingLanguages; rdfs:label ?label .\n",
        "FILTER(LANG(?label) = \"en\")} '''\n",
        "query"
      ],
      "execution_count": 5,
      "outputs": [
        {
          "output_type": "execute_result",
          "data": {
            "application/vnd.google.colaboratory.intrinsic+json": {
              "type": "string"
            },
            "text/plain": [
              "' SELECT ?thing, ?label \\nWHERE { ?thing a dbo:ProgrammingLanguage; a dbo:Language; a yago:WikicatProgrammingLanguages; rdfs:label ?label .\\nFILTER(LANG(?label) = \"en\")} '"
            ]
          },
          "metadata": {
            "tags": []
          },
          "execution_count": 5
        }
      ]
    },
    {
      "cell_type": "code",
      "metadata": {
        "colab": {
          "base_uri": "https://localhost:8080/",
          "height": 206
        },
        "id": "eg3Ke8dKylW6",
        "outputId": "2c520fe9-0838-4cd1-d7ba-e4b032064faa"
      },
      "source": [
        "results = exec_query(sparql, query)\n",
        "results.head()"
      ],
      "execution_count": 6,
      "outputs": [
        {
          "output_type": "execute_result",
          "data": {
            "text/html": [
              "<div>\n",
              "<style scoped>\n",
              "    .dataframe tbody tr th:only-of-type {\n",
              "        vertical-align: middle;\n",
              "    }\n",
              "\n",
              "    .dataframe tbody tr th {\n",
              "        vertical-align: top;\n",
              "    }\n",
              "\n",
              "    .dataframe thead th {\n",
              "        text-align: right;\n",
              "    }\n",
              "</style>\n",
              "<table border=\"1\" class=\"dataframe\">\n",
              "  <thead>\n",
              "    <tr style=\"text-align: right;\">\n",
              "      <th></th>\n",
              "      <th>thing.type</th>\n",
              "      <th>thing.value</th>\n",
              "      <th>label.type</th>\n",
              "      <th>label.xml:lang</th>\n",
              "      <th>label.value</th>\n",
              "    </tr>\n",
              "  </thead>\n",
              "  <tbody>\n",
              "    <tr>\n",
              "      <th>0</th>\n",
              "      <td>uri</td>\n",
              "      <td>http://dbpedia.org/resource/C++</td>\n",
              "      <td>literal</td>\n",
              "      <td>en</td>\n",
              "      <td>C++</td>\n",
              "    </tr>\n",
              "    <tr>\n",
              "      <th>1</th>\n",
              "      <td>uri</td>\n",
              "      <td>http://dbpedia.org/resource/CLU_(programming_l...</td>\n",
              "      <td>literal</td>\n",
              "      <td>en</td>\n",
              "      <td>CLU (programming language)</td>\n",
              "    </tr>\n",
              "    <tr>\n",
              "      <th>2</th>\n",
              "      <td>uri</td>\n",
              "      <td>http://dbpedia.org/resource/COBOL</td>\n",
              "      <td>literal</td>\n",
              "      <td>en</td>\n",
              "      <td>COBOL</td>\n",
              "    </tr>\n",
              "    <tr>\n",
              "      <th>3</th>\n",
              "      <td>uri</td>\n",
              "      <td>http://dbpedia.org/resource/COMIT</td>\n",
              "      <td>literal</td>\n",
              "      <td>en</td>\n",
              "      <td>COMIT</td>\n",
              "    </tr>\n",
              "    <tr>\n",
              "      <th>4</th>\n",
              "      <td>uri</td>\n",
              "      <td>http://dbpedia.org/resource/CPL_(programming_l...</td>\n",
              "      <td>literal</td>\n",
              "      <td>en</td>\n",
              "      <td>CPL (programming language)</td>\n",
              "    </tr>\n",
              "  </tbody>\n",
              "</table>\n",
              "</div>"
            ],
            "text/plain": [
              "  thing.type  ...                 label.value\n",
              "0        uri  ...                         C++\n",
              "1        uri  ...  CLU (programming language)\n",
              "2        uri  ...                       COBOL\n",
              "3        uri  ...                       COMIT\n",
              "4        uri  ...  CPL (programming language)\n",
              "\n",
              "[5 rows x 5 columns]"
            ]
          },
          "metadata": {
            "tags": []
          },
          "execution_count": 6
        }
      ]
    },
    {
      "cell_type": "code",
      "metadata": {
        "colab": {
          "base_uri": "https://localhost:8080/"
        },
        "id": "Th21Xwj_ytvP",
        "outputId": "bebdb570-103c-43d7-cbed-82ba0622763e"
      },
      "source": [
        "wiki_page_list = list(set(results['label.value']))\n",
        "len(wiki_page_list)"
      ],
      "execution_count": 7,
      "outputs": [
        {
          "output_type": "execute_result",
          "data": {
            "text/plain": [
              "257"
            ]
          },
          "metadata": {
            "tags": []
          },
          "execution_count": 7
        }
      ]
    },
    {
      "cell_type": "code",
      "metadata": {
        "colab": {
          "base_uri": "https://localhost:8080/"
        },
        "id": "6jOSp2aazFcp",
        "outputId": "23511b1d-856d-42d6-e04b-f642debbab2a"
      },
      "source": [
        "wiki_page_list"
      ],
      "execution_count": 8,
      "outputs": [
        {
          "output_type": "execute_result",
          "data": {
            "text/plain": [
              "['IBM RPG',\n",
              " 'Visual Basic for Applications',\n",
              " 'Locomotive BASIC',\n",
              " 'Caml',\n",
              " 'C--',\n",
              " 'Ada (programming language)',\n",
              " 'Opa (programming language)',\n",
              " 'PLEX (programming language)',\n",
              " 'Seed7',\n",
              " 'Clascal',\n",
              " 'SPARK (programming language)',\n",
              " 'Not Quite C',\n",
              " 'Common Intermediate Language',\n",
              " 'OpenGL Shading Language',\n",
              " 'Pacbase',\n",
              " 'Logtalk',\n",
              " 'ML (programming language)',\n",
              " 'Common Lisp',\n",
              " 'Charm++',\n",
              " 'BCPL',\n",
              " 'Modula-2',\n",
              " 'Simula',\n",
              " 'MAD (programming language)',\n",
              " 'SR (programming language)',\n",
              " 'Tea (programming language)',\n",
              " 'AspectJ',\n",
              " 'Perl',\n",
              " 'ALGOL 60',\n",
              " 'Newsqueak',\n",
              " 'Arc (programming language)',\n",
              " 'Fortran',\n",
              " 'COBOL',\n",
              " 'Compiled language',\n",
              " 'Real-time Programming Language',\n",
              " 'Turing (programming language)',\n",
              " 'AutoLISP',\n",
              " 'FX-87',\n",
              " 'Scientific Vector Language',\n",
              " 'ALGOL W',\n",
              " 'OptimJ',\n",
              " 'OCaml',\n",
              " 'Verilog',\n",
              " 'ABSET',\n",
              " 'Language Of Temporal Ordering Specification',\n",
              " 'QML',\n",
              " 'Pharo',\n",
              " 'APL (programming language)',\n",
              " 'MPD (programming language)',\n",
              " 'VHDL',\n",
              " 'Rebol',\n",
              " 'Clarion (programming language)',\n",
              " 'Cω',\n",
              " 'Mirah (programming language)',\n",
              " 'IDL (programming language)',\n",
              " 'Swift (parallel scripting language)',\n",
              " 'Icon (programming language)',\n",
              " 'Spec Sharp',\n",
              " 'Miranda (programming language)',\n",
              " 'Boo (programming language)',\n",
              " 'Hop (software)',\n",
              " 'X10 (programming language)',\n",
              " 'XL (programming language)',\n",
              " 'ABC ALGOL',\n",
              " 'BASIC',\n",
              " '4th Dimension (software)',\n",
              " 'Ravenscar profile',\n",
              " 'Prolog',\n",
              " 'Component Pascal',\n",
              " 'Delphi (programming language)',\n",
              " 'Absys',\n",
              " 'Extended ML',\n",
              " 'Self (programming language)',\n",
              " 'Programming with Big Data in R',\n",
              " 'HyperTalk',\n",
              " 'Strongtalk',\n",
              " 'JavaScript',\n",
              " 'JOVIAL',\n",
              " 'Atari Pascal',\n",
              " 'Coarray Fortran',\n",
              " 'R (programming language)',\n",
              " 'Scala (programming language)',\n",
              " 'ABAP',\n",
              " 'General-purpose programming language',\n",
              " 'CLU (programming language)',\n",
              " 'NewtonScript',\n",
              " 'Scratch (programming language)',\n",
              " 'ALGOL',\n",
              " 'Cool (programming language)',\n",
              " 'ALGOL 68',\n",
              " 'Typed assembly language',\n",
              " 'F Sharp (programming language)',\n",
              " 'Factor (programming language)',\n",
              " 'Tritium (programming language)',\n",
              " 'Programming Language for Business',\n",
              " 'Instruction list',\n",
              " 'Processing (programming language)',\n",
              " 'D (programming language)',\n",
              " 'Modula',\n",
              " 'Hot Soup Processor',\n",
              " 'Pico (programming language)',\n",
              " 'Smalltalk',\n",
              " 'Objective-J',\n",
              " 'Swift (programming language)',\n",
              " 'SAIL (programming language)',\n",
              " 'IJVM',\n",
              " 'IBM BASIC',\n",
              " 'NetLogo',\n",
              " 'Erlang (programming language)',\n",
              " 'Io (programming language)',\n",
              " 'Groovy (programming language)',\n",
              " 'C++',\n",
              " 'MIRC scripting language',\n",
              " 'Java (programming language)',\n",
              " 'Brainfuck',\n",
              " 'YAML',\n",
              " 'Emacs Lisp',\n",
              " 'LFE (programming language)',\n",
              " 'FP (programming language)',\n",
              " 'Scheme Requests for Implementation',\n",
              " 'Maclisp',\n",
              " 'Hack (programming language)',\n",
              " 'AWK',\n",
              " 'Curl (programming language)',\n",
              " 'A+ (programming language)',\n",
              " 'PHP',\n",
              " 'PL/pgSQL',\n",
              " 'Cg (programming language)',\n",
              " 'Red (programming language)',\n",
              " 'Noop',\n",
              " 'NesC',\n",
              " 'Vvvv',\n",
              " 'C (programming language)',\n",
              " 'Go (programming language)',\n",
              " 'B (programming language)',\n",
              " 'DRAKON',\n",
              " 'Alef (programming language)',\n",
              " 'STOS BASIC',\n",
              " 'Object REXX',\n",
              " 'Vala (programming language)',\n",
              " 'Clipper (programming language)',\n",
              " 'Sather',\n",
              " 'ColdFusion Markup Language',\n",
              " 'VBScript',\n",
              " 'NetRexx',\n",
              " 'Oberon (programming language)',\n",
              " 'Ratfor',\n",
              " 'Ceylon (programming language)',\n",
              " 'Eiffel (programming language)',\n",
              " 'Jolie (programming language)',\n",
              " 'Genie (programming language)',\n",
              " 'Charm (programming language)',\n",
              " 'CPL (programming language)',\n",
              " 'Haskell (programming language)',\n",
              " 'Aldor',\n",
              " 'Script.NET',\n",
              " 'Mercury (programming language)',\n",
              " 'ECMAScript',\n",
              " 'Logo (programming language)',\n",
              " 'Visual Basic',\n",
              " 'Rexx',\n",
              " 'Graph Modelling Language',\n",
              " 'KISS (system)',\n",
              " 'Python (programming language)',\n",
              " 'JScript',\n",
              " 'Fantom (programming language)',\n",
              " 'Mizar system',\n",
              " 'J (programming language)',\n",
              " 'Kotlin (programming language)',\n",
              " 'Curry (programming language)',\n",
              " 'Programmation Automatique des Formules',\n",
              " 'Modula-3',\n",
              " 'FLOW-MATIC',\n",
              " 'Argus (programming language)',\n",
              " 'Haxe',\n",
              " 'NewLISP',\n",
              " 'EGL (programming language)',\n",
              " 'ActionScript',\n",
              " 'Occam (programming language)',\n",
              " 'TRAC (programming language)',\n",
              " 'Elixir (programming language)',\n",
              " 'CoffeeScript',\n",
              " 'Microsoft Small Basic',\n",
              " 'E (programming language)',\n",
              " 'TELCOMP',\n",
              " 'Interlisp',\n",
              " 'PL/I',\n",
              " 'Amiga E',\n",
              " 'Fortress (programming language)',\n",
              " 'Oxygene (programming language)',\n",
              " 'Auto-lead Data Format',\n",
              " 'Visual Basic .NET',\n",
              " 'CLIST',\n",
              " 'Oz (programming language)',\n",
              " 'AutoIt',\n",
              " 'Julia (programming language)',\n",
              " 'Joy (programming language)',\n",
              " 'Rust (programming language)',\n",
              " 'Embedded style language',\n",
              " 'ACC (programming language)',\n",
              " 'Nyquist (programming language)',\n",
              " 'Sawzall (programming language)',\n",
              " 'UIML',\n",
              " 'SNOBOL',\n",
              " 'Averest',\n",
              " 'PL/M',\n",
              " 'Open Programming Language',\n",
              " 'JHTML',\n",
              " 'Planner (programming language)',\n",
              " 'Web Language',\n",
              " 'Tcl',\n",
              " 'SETL',\n",
              " 'ELAN (programming language)',\n",
              " 'Euler (programming language)',\n",
              " 'Dart (programming language)',\n",
              " 'VisSim',\n",
              " 'AppleScript',\n",
              " 'AMPL',\n",
              " 'Plankalkül',\n",
              " 'Objective-C',\n",
              " 'C/AL',\n",
              " 'Cybil (programming language)',\n",
              " 'Sed',\n",
              " 'COMAL',\n",
              " 'LiveScript',\n",
              " 'ISWIM',\n",
              " 'Constraint Handling Rules',\n",
              " 'Gambas',\n",
              " 'Napier88',\n",
              " 'Alice (programming language)',\n",
              " 'Modelica',\n",
              " 'Flow chart language',\n",
              " 'Language binding',\n",
              " 'Information Processing Language',\n",
              " 'Unified Parallel C',\n",
              " 'Limbo (programming language)',\n",
              " 'Gödel (programming language)',\n",
              " 'M4 (computer language)',\n",
              " 'Nemerle',\n",
              " 'QBasic',\n",
              " 'Clojure',\n",
              " 'ABC (programming language)',\n",
              " 'UCBLogo',\n",
              " 'Dylan (programming language)',\n",
              " 'Cobra (programming language)',\n",
              " 'PEARL (programming language)',\n",
              " 'KOMPILER',\n",
              " 'Euphoria (programming language)',\n",
              " 'ProvideX',\n",
              " 'Visual Objects',\n",
              " 'C Sharp (programming language)',\n",
              " 'Scheme (programming language)',\n",
              " 'SCUMM',\n",
              " 'COMIT',\n",
              " 'MetaPost',\n",
              " 'Standard ML',\n",
              " 'ΛProlog',\n",
              " 'PureBasic']"
            ]
          },
          "metadata": {
            "tags": []
          },
          "execution_count": 8
        }
      ]
    },
    {
      "cell_type": "code",
      "metadata": {
        "id": "04RMuRTMzGzu"
      },
      "source": [
        "%%time\n",
        "list_wiki_page_objs = []\n",
        "for each_page in wiki_page_list:\n",
        "  try:\n",
        "    list_wiki_page_objs.append(wikipedia.page(each_page).content)\n",
        "  except Exception as e:\n",
        "    continue"
      ],
      "execution_count": null,
      "outputs": []
    },
    {
      "cell_type": "code",
      "metadata": {
        "id": "EKh0xbpV1-6L"
      },
      "source": [
        "len(list_wiki_page_objs)"
      ],
      "execution_count": null,
      "outputs": []
    },
    {
      "cell_type": "code",
      "metadata": {
        "id": "FOubjDLq2KWM"
      },
      "source": [
        "list_wiki_page_objs[0]"
      ],
      "execution_count": null,
      "outputs": []
    },
    {
      "cell_type": "code",
      "metadata": {
        "id": "GUfQSINj3dYq"
      },
      "source": [
        "wordnet_lemmatizer = WordNetLemmatizer()\n",
        "\n",
        "def text_preprocessing(text):\n",
        "  cleaned_text = re.sub(r'[^a-zA-Z\\d\\s\\']+', '', text)\n",
        "  tokenized_text = word_tokenize(cleaned_text.lower())\n",
        "  lemmatized_text = [wordnet_lemmatizer.lemmatize(token) for token in tokenized_text]\n",
        "  return lemmatized_text"
      ],
      "execution_count": null,
      "outputs": []
    },
    {
      "cell_type": "code",
      "metadata": {
        "id": "KbWmFTHO31pf"
      },
      "source": [
        "%%time\n",
        "list_wiki_page_objs_tokenized = [text_preprocessing(each_wiki_page_content) for each_wiki_page_content in list_wiki_page_objs]"
      ],
      "execution_count": null,
      "outputs": []
    },
    {
      "cell_type": "code",
      "metadata": {
        "id": "08GNF2L25gpJ"
      },
      "source": [
        "model = Word2Vec(list_wiki_page_objs_tokenized, max_vocab_size=200, min_count=5)"
      ],
      "execution_count": null,
      "outputs": []
    },
    {
      "cell_type": "code",
      "metadata": {
        "id": "xtjcZ4l972z1"
      },
      "source": [
        "model.wv.most_similar('programming')"
      ],
      "execution_count": null,
      "outputs": []
    },
    {
      "cell_type": "code",
      "metadata": {
        "id": "Yl1TWirc9jqR"
      },
      "source": [
        "pca = PCA(n_components=2)"
      ],
      "execution_count": null,
      "outputs": []
    },
    {
      "cell_type": "code",
      "metadata": {
        "id": "2BYDMdYU-UBX"
      },
      "source": [
        "vocab = list(model.wv.vocab)"
      ],
      "execution_count": null,
      "outputs": []
    },
    {
      "cell_type": "code",
      "metadata": {
        "id": "_QU6xpXC-EOE"
      },
      "source": [
        "X_pca = pca.fit_transform(model.wv[vocab])"
      ],
      "execution_count": null,
      "outputs": []
    },
    {
      "cell_type": "code",
      "metadata": {
        "id": "XeIDa7JP-rmN"
      },
      "source": [
        "plt.figure(figsize=[20, 15])\n",
        "plt.scatter(X_pca[:, 0], X_pca[:, 1])\n",
        "for i, word in enumerate(vocab):\n",
        "    plt.annotate(word, xy = (X_pca[i, 0], X_pca[i, 1]))\n",
        "plt.xticks([])\n",
        "plt.yticks([])\n",
        "plt.show()"
      ],
      "execution_count": null,
      "outputs": []
    },
    {
      "cell_type": "markdown",
      "metadata": {
        "id": "mn_3yU5_E8Eo"
      },
      "source": [
        "Thanks for visiting!"
      ]
    }
  ]
}