{
  "nbformat": 4,
  "nbformat_minor": 0,
  "metadata": {
    "colab": {
      "name": "SPARQLWrapper Demo.ipynb",
      "provenance": [],
      "collapsed_sections": [],
      "toc_visible": true,
      "authorship_tag": "ABX9TyMv/HRsDv0YaKy0Fz5GN+wm",
      "include_colab_link": true
    },
    "kernelspec": {
      "name": "python3",
      "display_name": "Python 3"
    },
    "language_info": {
      "name": "python"
    }
  },
  "cells": [
    {
      "cell_type": "markdown",
      "metadata": {
        "id": "view-in-github",
        "colab_type": "text"
      },
      "source": [
        "<a href=\"https://colab.research.google.com/github/royn5618/Talks_Resources/blob/main/EuroPython2021/SPARQLWrapper_Demo.ipynb\" target=\"_parent\"><img src=\"https://colab.research.google.com/assets/colab-badge.svg\" alt=\"Open In Colab\"/></a>"
      ]
    },
    {
      "cell_type": "markdown",
      "metadata": {
        "id": "eYJ-sJ7TRuwr"
      },
      "source": [
        "**Install SPARQLWrapper**\n",
        "\n",
        "SPARQLWrapper is a simple Python wrapper around a SPARQL service to remotely execute your queries. It helps in creating the query invokation and, possibly, convert the result into a more manageable format.\n",
        "\n",
        "**Ref** - https://github.com/RDFLib/sparqlwrapper"
      ]
    },
    {
      "cell_type": "code",
      "metadata": {
        "colab": {
          "base_uri": "https://localhost:8080/"
        },
        "id": "PQbUB8skQLZ5",
        "outputId": "82b0485c-fd19-48f0-b015-91afa010a3ec"
      },
      "source": [
        "!pip install SPARQLWrapper"
      ],
      "execution_count": 1,
      "outputs": [
        {
          "output_type": "stream",
          "text": [
            "Collecting SPARQLWrapper\n",
            "  Downloading SPARQLWrapper-1.8.5-py3-none-any.whl (26 kB)\n",
            "Collecting rdflib>=4.0\n",
            "  Downloading rdflib-6.0.0-py3-none-any.whl (376 kB)\n",
            "\u001b[?25l\r\u001b[K     |▉                               | 10 kB 30.5 MB/s eta 0:00:01\r\u001b[K     |█▊                              | 20 kB 39.8 MB/s eta 0:00:01\r\u001b[K     |██▋                             | 30 kB 41.5 MB/s eta 0:00:01\r\u001b[K     |███▌                            | 40 kB 45.2 MB/s eta 0:00:01\r\u001b[K     |████▍                           | 51 kB 25.9 MB/s eta 0:00:01\r\u001b[K     |█████▏                          | 61 kB 27.7 MB/s eta 0:00:01\r\u001b[K     |██████                          | 71 kB 14.9 MB/s eta 0:00:01\r\u001b[K     |███████                         | 81 kB 16.0 MB/s eta 0:00:01\r\u001b[K     |███████▉                        | 92 kB 16.3 MB/s eta 0:00:01\r\u001b[K     |████████▊                       | 102 kB 15.4 MB/s eta 0:00:01\r\u001b[K     |█████████▋                      | 112 kB 15.4 MB/s eta 0:00:01\r\u001b[K     |██████████▍                     | 122 kB 15.4 MB/s eta 0:00:01\r\u001b[K     |███████████▎                    | 133 kB 15.4 MB/s eta 0:00:01\r\u001b[K     |████████████▏                   | 143 kB 15.4 MB/s eta 0:00:01\r\u001b[K     |█████████████                   | 153 kB 15.4 MB/s eta 0:00:01\r\u001b[K     |██████████████                  | 163 kB 15.4 MB/s eta 0:00:01\r\u001b[K     |██████████████▉                 | 174 kB 15.4 MB/s eta 0:00:01\r\u001b[K     |███████████████▋                | 184 kB 15.4 MB/s eta 0:00:01\r\u001b[K     |████████████████▌               | 194 kB 15.4 MB/s eta 0:00:01\r\u001b[K     |█████████████████▍              | 204 kB 15.4 MB/s eta 0:00:01\r\u001b[K     |██████████████████▎             | 215 kB 15.4 MB/s eta 0:00:01\r\u001b[K     |███████████████████▏            | 225 kB 15.4 MB/s eta 0:00:01\r\u001b[K     |████████████████████            | 235 kB 15.4 MB/s eta 0:00:01\r\u001b[K     |████████████████████▉           | 245 kB 15.4 MB/s eta 0:00:01\r\u001b[K     |█████████████████████▊          | 256 kB 15.4 MB/s eta 0:00:01\r\u001b[K     |██████████████████████▋         | 266 kB 15.4 MB/s eta 0:00:01\r\u001b[K     |███████████████████████▌        | 276 kB 15.4 MB/s eta 0:00:01\r\u001b[K     |████████████████████████▍       | 286 kB 15.4 MB/s eta 0:00:01\r\u001b[K     |█████████████████████████▎      | 296 kB 15.4 MB/s eta 0:00:01\r\u001b[K     |██████████████████████████      | 307 kB 15.4 MB/s eta 0:00:01\r\u001b[K     |███████████████████████████     | 317 kB 15.4 MB/s eta 0:00:01\r\u001b[K     |███████████████████████████▉    | 327 kB 15.4 MB/s eta 0:00:01\r\u001b[K     |████████████████████████████▊   | 337 kB 15.4 MB/s eta 0:00:01\r\u001b[K     |█████████████████████████████▋  | 348 kB 15.4 MB/s eta 0:00:01\r\u001b[K     |██████████████████████████████▌ | 358 kB 15.4 MB/s eta 0:00:01\r\u001b[K     |███████████████████████████████▎| 368 kB 15.4 MB/s eta 0:00:01\r\u001b[K     |████████████████████████████████| 376 kB 15.4 MB/s \n",
            "\u001b[?25hCollecting isodate\n",
            "  Downloading isodate-0.6.0-py2.py3-none-any.whl (45 kB)\n",
            "\u001b[K     |████████████████████████████████| 45 kB 2.4 MB/s \n",
            "\u001b[?25hRequirement already satisfied: setuptools in /usr/local/lib/python3.7/dist-packages (from rdflib>=4.0->SPARQLWrapper) (57.2.0)\n",
            "Requirement already satisfied: pyparsing in /usr/local/lib/python3.7/dist-packages (from rdflib>=4.0->SPARQLWrapper) (2.4.7)\n",
            "Requirement already satisfied: six in /usr/local/lib/python3.7/dist-packages (from isodate->rdflib>=4.0->SPARQLWrapper) (1.15.0)\n",
            "Installing collected packages: isodate, rdflib, SPARQLWrapper\n",
            "Successfully installed SPARQLWrapper-1.8.5 isodate-0.6.0 rdflib-6.0.0\n"
          ],
          "name": "stdout"
        }
      ]
    },
    {
      "cell_type": "markdown",
      "metadata": {
        "id": "JV4HCgLFSDAd"
      },
      "source": [
        "Next import related python libraries:"
      ]
    },
    {
      "cell_type": "code",
      "metadata": {
        "id": "LNK1sXCjQN5e"
      },
      "source": [
        "from SPARQLWrapper import SPARQLWrapper, JSON, N3\n",
        "import pandas as pd"
      ],
      "execution_count": 2,
      "outputs": []
    },
    {
      "cell_type": "markdown",
      "metadata": {
        "id": "7Ox1JFxjST54"
      },
      "source": [
        "Set the SPARQL endpoint:"
      ]
    },
    {
      "cell_type": "code",
      "metadata": {
        "id": "L-39JJUFQQCm"
      },
      "source": [
        "sparql = SPARQLWrapper('https://dbpedia.org/sparql')"
      ],
      "execution_count": 3,
      "outputs": []
    },
    {
      "cell_type": "markdown",
      "metadata": {
        "id": "TOqwJOuISdHW"
      },
      "source": [
        "**Create your query**\n",
        "\n",
        "This query gets the label of the resource called Python. 'Python' is the **thing** or the **subject** here and we are refering to the **property** called 'rdfs:label' (whish is the **predicate** in rdf language) whose value is going to be stored in the **object variable** - ?object."
      ]
    },
    {
      "cell_type": "code",
      "metadata": {
        "id": "oJkrQtnnQSH4"
      },
      "source": [
        "sparql.setQuery('''\n",
        "    SELECT ?object\n",
        "    WHERE { dbr:Python rdfs:label ?object .}\n",
        "''')"
      ],
      "execution_count": 4,
      "outputs": []
    },
    {
      "cell_type": "markdown",
      "metadata": {
        "id": "x0mpJKpnTVYq"
      },
      "source": [
        "Specify the return format. Here we are using JSON:"
      ]
    },
    {
      "cell_type": "code",
      "metadata": {
        "id": "-I0VZalaQUSp"
      },
      "source": [
        "sparql.setReturnFormat(JSON)"
      ],
      "execution_count": 5,
      "outputs": []
    },
    {
      "cell_type": "markdown",
      "metadata": {
        "id": "bD2QXiU3Tb2X"
      },
      "source": [
        "Execute the query:"
      ]
    },
    {
      "cell_type": "code",
      "metadata": {
        "id": "ZpCzcXJqQVxr"
      },
      "source": [
        "results = sparql.query().convert()"
      ],
      "execution_count": 6,
      "outputs": []
    },
    {
      "cell_type": "markdown",
      "metadata": {
        "id": "EXorcILdTeYt"
      },
      "source": [
        "Convert the JSON response to a Pandas dataframe using pd.json_normalize():"
      ]
    },
    {
      "cell_type": "code",
      "metadata": {
        "id": "EbOJ27rmQXX5"
      },
      "source": [
        "results = pd.json_normalize(results['results']['bindings'])"
      ],
      "execution_count": 7,
      "outputs": []
    },
    {
      "cell_type": "code",
      "metadata": {
        "colab": {
          "base_uri": "https://localhost:8080/",
          "height": 206
        },
        "id": "JUP7WGixQZA5",
        "outputId": "b7cc6963-dfaf-43d0-c3e2-e6398db0ac1c"
      },
      "source": [
        "results.head()"
      ],
      "execution_count": 8,
      "outputs": [
        {
          "output_type": "execute_result",
          "data": {
            "text/html": [
              "<div>\n",
              "<style scoped>\n",
              "    .dataframe tbody tr th:only-of-type {\n",
              "        vertical-align: middle;\n",
              "    }\n",
              "\n",
              "    .dataframe tbody tr th {\n",
              "        vertical-align: top;\n",
              "    }\n",
              "\n",
              "    .dataframe thead th {\n",
              "        text-align: right;\n",
              "    }\n",
              "</style>\n",
              "<table border=\"1\" class=\"dataframe\">\n",
              "  <thead>\n",
              "    <tr style=\"text-align: right;\">\n",
              "      <th></th>\n",
              "      <th>object.type</th>\n",
              "      <th>object.xml:lang</th>\n",
              "      <th>object.value</th>\n",
              "    </tr>\n",
              "  </thead>\n",
              "  <tbody>\n",
              "    <tr>\n",
              "      <th>0</th>\n",
              "      <td>literal</td>\n",
              "      <td>en</td>\n",
              "      <td>Python</td>\n",
              "    </tr>\n",
              "    <tr>\n",
              "      <th>1</th>\n",
              "      <td>literal</td>\n",
              "      <td>ar</td>\n",
              "      <td>بايثون (توضيح)</td>\n",
              "    </tr>\n",
              "    <tr>\n",
              "      <th>2</th>\n",
              "      <td>literal</td>\n",
              "      <td>cs</td>\n",
              "      <td>Python (rozcestník)</td>\n",
              "    </tr>\n",
              "    <tr>\n",
              "      <th>3</th>\n",
              "      <td>literal</td>\n",
              "      <td>de</td>\n",
              "      <td>Python</td>\n",
              "    </tr>\n",
              "    <tr>\n",
              "      <th>4</th>\n",
              "      <td>literal</td>\n",
              "      <td>eo</td>\n",
              "      <td>Pitono (apartigilo)</td>\n",
              "    </tr>\n",
              "  </tbody>\n",
              "</table>\n",
              "</div>"
            ],
            "text/plain": [
              "  object.type object.xml:lang         object.value\n",
              "0     literal              en               Python\n",
              "1     literal              ar       بايثون (توضيح)\n",
              "2     literal              cs  Python (rozcestník)\n",
              "3     literal              de               Python\n",
              "4     literal              eo  Pitono (apartigilo)"
            ]
          },
          "metadata": {
            "tags": []
          },
          "execution_count": 8
        }
      ]
    },
    {
      "cell_type": "code",
      "metadata": {
        "colab": {
          "base_uri": "https://localhost:8080/"
        },
        "id": "MvgL5xFbQ2zk",
        "outputId": "b6d82b40-4acc-42b6-d6ce-efa8d6a24d1d"
      },
      "source": [
        "results.shape"
      ],
      "execution_count": 11,
      "outputs": [
        {
          "output_type": "execute_result",
          "data": {
            "text/plain": [
              "(18, 3)"
            ]
          },
          "metadata": {
            "tags": []
          },
          "execution_count": 11
        }
      ]
    },
    {
      "cell_type": "markdown",
      "metadata": {
        "id": "6MqzzWF0T9Gx"
      },
      "source": [
        "Note that this dataframe has 18 results. This is because of multilingual responses. A label in each of the different languages is an instance in the response."
      ]
    },
    {
      "cell_type": "markdown",
      "metadata": {
        "id": "D-wSU15hToTg"
      },
      "source": [
        "Create a function that contains all the query execution steps:"
      ]
    },
    {
      "cell_type": "code",
      "metadata": {
        "id": "osw15W-SQatZ"
      },
      "source": [
        "def exec_query(sparql, query):\n",
        "    sparql.setQuery(query)\n",
        "    sparql.setReturnFormat(JSON)\n",
        "    results = sparql.query().convert()\n",
        "    results = pd.json_normalize(results['results']['bindings'])\n",
        "    return results"
      ],
      "execution_count": 9,
      "outputs": []
    },
    {
      "cell_type": "markdown",
      "metadata": {
        "id": "zQc54ZQaURR4"
      },
      "source": [
        "The word 'Python' could mean different things.\n",
        "\n",
        "In this query, I have added a property called dbo:wikiPageDisambiguates which lists down the wiki page links of the ambiguities in the word 'Python'.\n",
        "\n",
        "Check out the DBPedia resource here - https://dbpedia.org/page/Python\n"
      ]
    },
    {
      "cell_type": "code",
      "metadata": {
        "colab": {
          "base_uri": "https://localhost:8080/",
          "height": 35
        },
        "id": "ELv-oJVRQp8u",
        "outputId": "0f8cbd0f-9501-40c7-c593-5e239aa80c30"
      },
      "source": [
        "query = ''' SELECT ?object, ?disamb \n",
        "WHERE { dbr:Python rdfs:label ?object; dbo:wikiPageDisambiguates ?disamb .} '''\n",
        "query"
      ],
      "execution_count": 15,
      "outputs": [
        {
          "output_type": "execute_result",
          "data": {
            "application/vnd.google.colaboratory.intrinsic+json": {
              "type": "string"
            },
            "text/plain": [
              "' SELECT ?object, ?disamb \\nWHERE { dbr:Python rdfs:label ?object; dbo:wikiPageDisambiguates ?disamb .} '"
            ]
          },
          "metadata": {
            "tags": []
          },
          "execution_count": 15
        }
      ]
    },
    {
      "cell_type": "code",
      "metadata": {
        "id": "weRCgR39Qz1v"
      },
      "source": [
        "results = exec_query(sparql, query)"
      ],
      "execution_count": 16,
      "outputs": []
    },
    {
      "cell_type": "code",
      "metadata": {
        "colab": {
          "base_uri": "https://localhost:8080/",
          "height": 206
        },
        "id": "V1NcniJDRDWw",
        "outputId": "9c6f3841-5a90-460d-d681-11bfc35923a0"
      },
      "source": [
        "results.head()"
      ],
      "execution_count": 17,
      "outputs": [
        {
          "output_type": "execute_result",
          "data": {
            "text/html": [
              "<div>\n",
              "<style scoped>\n",
              "    .dataframe tbody tr th:only-of-type {\n",
              "        vertical-align: middle;\n",
              "    }\n",
              "\n",
              "    .dataframe tbody tr th {\n",
              "        vertical-align: top;\n",
              "    }\n",
              "\n",
              "    .dataframe thead th {\n",
              "        text-align: right;\n",
              "    }\n",
              "</style>\n",
              "<table border=\"1\" class=\"dataframe\">\n",
              "  <thead>\n",
              "    <tr style=\"text-align: right;\">\n",
              "      <th></th>\n",
              "      <th>object.type</th>\n",
              "      <th>object.xml:lang</th>\n",
              "      <th>object.value</th>\n",
              "      <th>disamb.type</th>\n",
              "      <th>disamb.value</th>\n",
              "    </tr>\n",
              "  </thead>\n",
              "  <tbody>\n",
              "    <tr>\n",
              "      <th>0</th>\n",
              "      <td>literal</td>\n",
              "      <td>in</td>\n",
              "      <td>Python</td>\n",
              "      <td>uri</td>\n",
              "      <td>http://dbpedia.org/resource/Monty_Python</td>\n",
              "    </tr>\n",
              "    <tr>\n",
              "      <th>1</th>\n",
              "      <td>literal</td>\n",
              "      <td>in</td>\n",
              "      <td>Python</td>\n",
              "      <td>uri</td>\n",
              "      <td>http://dbpedia.org/resource/Python_(Ford_proto...</td>\n",
              "    </tr>\n",
              "    <tr>\n",
              "      <th>2</th>\n",
              "      <td>literal</td>\n",
              "      <td>in</td>\n",
              "      <td>Python</td>\n",
              "      <td>uri</td>\n",
              "      <td>http://dbpedia.org/resource/Python_(Monty)_Pic...</td>\n",
              "    </tr>\n",
              "    <tr>\n",
              "      <th>3</th>\n",
              "      <td>literal</td>\n",
              "      <td>in</td>\n",
              "      <td>Python</td>\n",
              "      <td>uri</td>\n",
              "      <td>http://dbpedia.org/resource/Python_(mythology)</td>\n",
              "    </tr>\n",
              "    <tr>\n",
              "      <th>4</th>\n",
              "      <td>literal</td>\n",
              "      <td>in</td>\n",
              "      <td>Python</td>\n",
              "      <td>uri</td>\n",
              "      <td>http://dbpedia.org/resource/Python_(nuclear_pr...</td>\n",
              "    </tr>\n",
              "  </tbody>\n",
              "</table>\n",
              "</div>"
            ],
            "text/plain": [
              "  object.type  ...                                       disamb.value\n",
              "0     literal  ...           http://dbpedia.org/resource/Monty_Python\n",
              "1     literal  ...  http://dbpedia.org/resource/Python_(Ford_proto...\n",
              "2     literal  ...  http://dbpedia.org/resource/Python_(Monty)_Pic...\n",
              "3     literal  ...     http://dbpedia.org/resource/Python_(mythology)\n",
              "4     literal  ...  http://dbpedia.org/resource/Python_(nuclear_pr...\n",
              "\n",
              "[5 rows x 5 columns]"
            ]
          },
          "metadata": {
            "tags": []
          },
          "execution_count": 17
        }
      ]
    },
    {
      "cell_type": "markdown",
      "metadata": {
        "id": "gqGTY4TjUoY0"
      },
      "source": [
        "Check that two new columns are added, one to describe the type of the variable ?disamb and another to store the value of the variable disamb."
      ]
    },
    {
      "cell_type": "code",
      "metadata": {
        "colab": {
          "base_uri": "https://localhost:8080/"
        },
        "id": "rK11yEW9Rosf",
        "outputId": "3613a50e-a19c-48dd-b378-4ce777ac7d54"
      },
      "source": [
        "results.shape"
      ],
      "execution_count": 25,
      "outputs": [
        {
          "output_type": "execute_result",
          "data": {
            "text/plain": [
              "(21, 5)"
            ]
          },
          "metadata": {
            "tags": []
          },
          "execution_count": 25
        }
      ]
    },
    {
      "cell_type": "markdown",
      "metadata": {
        "id": "OC1o82gcU2fg"
      },
      "source": [
        "Now, to look at Python as programming language, this is our query.\n",
        "\n",
        "If you click on the link in dbo:wikiPageDisambiguates in the resource page https://dbpedia.org/page/Python and navigate to \n",
        "https://dbpedia.org/page/Python_(programming_language).\n",
        "\n",
        "You should be able to see all the properties of Python programming language now. From there, I have constructed this query to get the label and the abstract, which is usually a paragraph containing the description of the thing we are at."
      ]
    },
    {
      "cell_type": "code",
      "metadata": {
        "colab": {
          "base_uri": "https://localhost:8080/",
          "height": 35
        },
        "id": "WdMBWqRBREqz",
        "outputId": "1602cdb7-8296-4399-9ccc-05152102f864"
      },
      "source": [
        "query = ''' SELECT ?label, ?abstract  \n",
        "WHERE { dbr:Python_\\(programming_language\\) rdfs:label ?label; dbo:abstract ?abstract .} '''\n",
        "query"
      ],
      "execution_count": 45,
      "outputs": [
        {
          "output_type": "execute_result",
          "data": {
            "application/vnd.google.colaboratory.intrinsic+json": {
              "type": "string"
            },
            "text/plain": [
              "' SELECT ?label, ?abstract  \\nWHERE { dbr:Python_\\\\(programming_language\\\\) rdfs:label ?label; dbo:abstract ?abstract .} '"
            ]
          },
          "metadata": {
            "tags": []
          },
          "execution_count": 45
        }
      ]
    },
    {
      "cell_type": "code",
      "metadata": {
        "colab": {
          "base_uri": "https://localhost:8080/",
          "height": 206
        },
        "id": "H_hPeRoyRWXc",
        "outputId": "4d992b0e-6e89-41f2-8c5c-77c1622cf011"
      },
      "source": [
        "results = exec_query(sparql, query)\n",
        "results.head()"
      ],
      "execution_count": 46,
      "outputs": [
        {
          "output_type": "execute_result",
          "data": {
            "text/html": [
              "<div>\n",
              "<style scoped>\n",
              "    .dataframe tbody tr th:only-of-type {\n",
              "        vertical-align: middle;\n",
              "    }\n",
              "\n",
              "    .dataframe tbody tr th {\n",
              "        vertical-align: top;\n",
              "    }\n",
              "\n",
              "    .dataframe thead th {\n",
              "        text-align: right;\n",
              "    }\n",
              "</style>\n",
              "<table border=\"1\" class=\"dataframe\">\n",
              "  <thead>\n",
              "    <tr style=\"text-align: right;\">\n",
              "      <th></th>\n",
              "      <th>label.type</th>\n",
              "      <th>label.xml:lang</th>\n",
              "      <th>label.value</th>\n",
              "      <th>abstract.type</th>\n",
              "      <th>abstract.xml:lang</th>\n",
              "      <th>abstract.value</th>\n",
              "    </tr>\n",
              "  </thead>\n",
              "  <tbody>\n",
              "    <tr>\n",
              "      <th>0</th>\n",
              "      <td>literal</td>\n",
              "      <td>en</td>\n",
              "      <td>Python (programming language)</td>\n",
              "      <td>literal</td>\n",
              "      <td>es</td>\n",
              "      <td>Python es un lenguaje de programación interpre...</td>\n",
              "    </tr>\n",
              "    <tr>\n",
              "      <th>1</th>\n",
              "      <td>literal</td>\n",
              "      <td>ar</td>\n",
              "      <td>بايثون (لغة برمجة)</td>\n",
              "      <td>literal</td>\n",
              "      <td>es</td>\n",
              "      <td>Python es un lenguaje de programación interpre...</td>\n",
              "    </tr>\n",
              "    <tr>\n",
              "      <th>2</th>\n",
              "      <td>literal</td>\n",
              "      <td>ca</td>\n",
              "      <td>Python</td>\n",
              "      <td>literal</td>\n",
              "      <td>es</td>\n",
              "      <td>Python es un lenguaje de programación interpre...</td>\n",
              "    </tr>\n",
              "    <tr>\n",
              "      <th>3</th>\n",
              "      <td>literal</td>\n",
              "      <td>cs</td>\n",
              "      <td>Python</td>\n",
              "      <td>literal</td>\n",
              "      <td>es</td>\n",
              "      <td>Python es un lenguaje de programación interpre...</td>\n",
              "    </tr>\n",
              "    <tr>\n",
              "      <th>4</th>\n",
              "      <td>literal</td>\n",
              "      <td>de</td>\n",
              "      <td>Python (Programmiersprache)</td>\n",
              "      <td>literal</td>\n",
              "      <td>es</td>\n",
              "      <td>Python es un lenguaje de programación interpre...</td>\n",
              "    </tr>\n",
              "  </tbody>\n",
              "</table>\n",
              "</div>"
            ],
            "text/plain": [
              "  label.type  ...                                     abstract.value\n",
              "0    literal  ...  Python es un lenguaje de programación interpre...\n",
              "1    literal  ...  Python es un lenguaje de programación interpre...\n",
              "2    literal  ...  Python es un lenguaje de programación interpre...\n",
              "3    literal  ...  Python es un lenguaje de programación interpre...\n",
              "4    literal  ...  Python es un lenguaje de programación interpre...\n",
              "\n",
              "[5 rows x 6 columns]"
            ]
          },
          "metadata": {
            "tags": []
          },
          "execution_count": 46
        }
      ]
    },
    {
      "cell_type": "code",
      "metadata": {
        "colab": {
          "base_uri": "https://localhost:8080/"
        },
        "id": "acaJ2R_RRZb3",
        "outputId": "2548a9e2-c62b-4647-855b-2c47cad3a283"
      },
      "source": [
        "results.shape"
      ],
      "execution_count": 47,
      "outputs": [
        {
          "output_type": "execute_result",
          "data": {
            "text/plain": [
              "(420, 6)"
            ]
          },
          "metadata": {
            "tags": []
          },
          "execution_count": 47
        }
      ]
    },
    {
      "cell_type": "markdown",
      "metadata": {
        "id": "RWBT5AUAZJHj"
      },
      "source": [
        "Check that we have 420 instances. This is because of the multiple languages. Feel free to explore what is available."
      ]
    },
    {
      "cell_type": "markdown",
      "metadata": {
        "id": "JukFaostVRzv"
      },
      "source": [
        "Filtering is also possible using SPARQL query. In the next query, I am filtering by Engish language of the label and the abstract."
      ]
    },
    {
      "cell_type": "code",
      "metadata": {
        "colab": {
          "base_uri": "https://localhost:8080/",
          "height": 53
        },
        "id": "OiIHenHqRm3P",
        "outputId": "4ad97823-cc11-4bd5-c368-3686686ed3f2"
      },
      "source": [
        "query = ''' SELECT ?label, ?abstract  \n",
        "WHERE { dbr:Python_\\(programming_language\\) rdfs:label ?label; dbo:abstract ?abstract .\n",
        "FILTER(LANG(?abstract) = \"en\" && LANG(?label) = \"en\")} '''\n",
        "query"
      ],
      "execution_count": 48,
      "outputs": [
        {
          "output_type": "execute_result",
          "data": {
            "application/vnd.google.colaboratory.intrinsic+json": {
              "type": "string"
            },
            "text/plain": [
              "' SELECT ?label, ?abstract  \\nWHERE { dbr:Python_\\\\(programming_language\\\\) rdfs:label ?label; dbo:abstract ?abstract .\\nFILTER(LANG(?abstract) = \"en\" && LANG(?label) = \"en\")} '"
            ]
          },
          "metadata": {
            "tags": []
          },
          "execution_count": 48
        }
      ]
    },
    {
      "cell_type": "code",
      "metadata": {
        "colab": {
          "base_uri": "https://localhost:8080/",
          "height": 81
        },
        "id": "f8UrPYgXQ6gg",
        "outputId": "66f7c753-2cb8-4859-f1fb-626aedd4987c"
      },
      "source": [
        "results = exec_query(sparql, query)\n",
        "results.head()"
      ],
      "execution_count": 49,
      "outputs": [
        {
          "output_type": "execute_result",
          "data": {
            "text/html": [
              "<div>\n",
              "<style scoped>\n",
              "    .dataframe tbody tr th:only-of-type {\n",
              "        vertical-align: middle;\n",
              "    }\n",
              "\n",
              "    .dataframe tbody tr th {\n",
              "        vertical-align: top;\n",
              "    }\n",
              "\n",
              "    .dataframe thead th {\n",
              "        text-align: right;\n",
              "    }\n",
              "</style>\n",
              "<table border=\"1\" class=\"dataframe\">\n",
              "  <thead>\n",
              "    <tr style=\"text-align: right;\">\n",
              "      <th></th>\n",
              "      <th>label.type</th>\n",
              "      <th>label.xml:lang</th>\n",
              "      <th>label.value</th>\n",
              "      <th>abstract.type</th>\n",
              "      <th>abstract.xml:lang</th>\n",
              "      <th>abstract.value</th>\n",
              "    </tr>\n",
              "  </thead>\n",
              "  <tbody>\n",
              "    <tr>\n",
              "      <th>0</th>\n",
              "      <td>literal</td>\n",
              "      <td>en</td>\n",
              "      <td>Python (programming language)</td>\n",
              "      <td>literal</td>\n",
              "      <td>en</td>\n",
              "      <td>Python is an interpreted high-level general-pu...</td>\n",
              "    </tr>\n",
              "  </tbody>\n",
              "</table>\n",
              "</div>"
            ],
            "text/plain": [
              "  label.type  ...                                     abstract.value\n",
              "0    literal  ...  Python is an interpreted high-level general-pu...\n",
              "\n",
              "[1 rows x 6 columns]"
            ]
          },
          "metadata": {
            "tags": []
          },
          "execution_count": 49
        }
      ]
    },
    {
      "cell_type": "code",
      "metadata": {
        "colab": {
          "base_uri": "https://localhost:8080/"
        },
        "id": "mNehIQ6IQQFC",
        "outputId": "605fb0ce-9d79-4387-a48b-5d5ff62ca868"
      },
      "source": [
        "results.shape"
      ],
      "execution_count": 50,
      "outputs": [
        {
          "output_type": "execute_result",
          "data": {
            "text/plain": [
              "(1, 6)"
            ]
          },
          "metadata": {
            "tags": []
          },
          "execution_count": 50
        }
      ]
    },
    {
      "cell_type": "markdown",
      "metadata": {
        "id": "K9klMMl8Z3C_"
      },
      "source": [
        "Check that there is only one instance now, which is the English language version of the label and abstract."
      ]
    },
    {
      "cell_type": "markdown",
      "metadata": {
        "id": "H2Zy7Ok6aBTi"
      },
      "source": [
        "**More Resources**\n",
        "\n",
        "\n",
        "1. https://pypi.org/project/SPARQLWrapper/\n",
        "2. https://readthedocs.org/projects/sparqlwrapper/\n",
        "3. Endpoint - https://dbpedia.org/sparql (Test your queries here)\n",
        "4. SPARQL Query Language for RDF - https://www.w3.org/TR/rdf-sparql-query/"
      ]
    }
  ]
}