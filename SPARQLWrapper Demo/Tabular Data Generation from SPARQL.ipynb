{
 "cells": [
  {
   "cell_type": "code",
   "execution_count": 1,
   "metadata": {
    "ExecuteTime": {
     "end_time": "2021-05-15T13:28:38.197614Z",
     "start_time": "2021-05-15T13:28:38.187280Z"
    }
   },
   "outputs": [],
   "source": [
    "# !pip install SPARQLWrapper"
   ]
  },
  {
   "cell_type": "code",
   "execution_count": 2,
   "metadata": {
    "ExecuteTime": {
     "end_time": "2021-05-15T13:28:38.794924Z",
     "start_time": "2021-05-15T13:28:38.198113Z"
    }
   },
   "outputs": [],
   "source": [
    "from SPARQLWrapper import SPARQLWrapper, JSON, N3\n",
    "import pandas as pd\n",
    "from pandas.io.json import json_normalize"
   ]
  },
  {
   "cell_type": "code",
   "execution_count": 3,
   "metadata": {
    "ExecuteTime": {
     "end_time": "2021-05-15T13:28:38.804151Z",
     "start_time": "2021-05-15T13:28:38.794924Z"
    }
   },
   "outputs": [],
   "source": [
    "sparql = SPARQLWrapper('https://dbpedia.org/sparql')"
   ]
  },
  {
   "cell_type": "code",
   "execution_count": 4,
   "metadata": {
    "ExecuteTime": {
     "end_time": "2021-05-15T13:28:38.834249Z",
     "start_time": "2021-05-15T13:28:38.805452Z"
    }
   },
   "outputs": [],
   "source": [
    "sparql.setQuery('''\n",
    "    SELECT ?object\n",
    "    WHERE { dbr:PyLadies rdfs:label ?object .}\n",
    "''')"
   ]
  },
  {
   "cell_type": "code",
   "execution_count": 5,
   "metadata": {
    "ExecuteTime": {
     "end_time": "2021-05-15T13:28:38.855917Z",
     "start_time": "2021-05-15T13:28:38.834249Z"
    }
   },
   "outputs": [],
   "source": [
    "sparql.setReturnFormat(JSON)"
   ]
  },
  {
   "cell_type": "code",
   "execution_count": 6,
   "metadata": {
    "ExecuteTime": {
     "end_time": "2021-05-15T13:28:39.003655Z",
     "start_time": "2021-05-15T13:28:38.858444Z"
    }
   },
   "outputs": [],
   "source": [
    "results = sparql.query().convert()"
   ]
  },
  {
   "cell_type": "code",
   "execution_count": 7,
   "metadata": {
    "ExecuteTime": {
     "end_time": "2021-05-15T13:28:39.030230Z",
     "start_time": "2021-05-15T13:28:39.011655Z"
    }
   },
   "outputs": [],
   "source": [
    "results = pd.json_normalize(results['results']['bindings'])"
   ]
  },
  {
   "cell_type": "code",
   "execution_count": 8,
   "metadata": {
    "ExecuteTime": {
     "end_time": "2021-05-15T13:28:39.081738Z",
     "start_time": "2021-05-15T13:28:39.030734Z"
    }
   },
   "outputs": [
    {
     "data": {
      "text/html": [
       "<div>\n",
       "<style scoped>\n",
       "    .dataframe tbody tr th:only-of-type {\n",
       "        vertical-align: middle;\n",
       "    }\n",
       "\n",
       "    .dataframe tbody tr th {\n",
       "        vertical-align: top;\n",
       "    }\n",
       "\n",
       "    .dataframe thead th {\n",
       "        text-align: right;\n",
       "    }\n",
       "</style>\n",
       "<table border=\"1\" class=\"dataframe\">\n",
       "  <thead>\n",
       "    <tr style=\"text-align: right;\">\n",
       "      <th></th>\n",
       "      <th>object.type</th>\n",
       "      <th>object.xml:lang</th>\n",
       "      <th>object.value</th>\n",
       "    </tr>\n",
       "  </thead>\n",
       "  <tbody>\n",
       "    <tr>\n",
       "      <th>0</th>\n",
       "      <td>literal</td>\n",
       "      <td>ar</td>\n",
       "      <td>باي ليديز</td>\n",
       "    </tr>\n",
       "    <tr>\n",
       "      <th>1</th>\n",
       "      <td>literal</td>\n",
       "      <td>es</td>\n",
       "      <td>PyLadies</td>\n",
       "    </tr>\n",
       "    <tr>\n",
       "      <th>2</th>\n",
       "      <td>literal</td>\n",
       "      <td>en</td>\n",
       "      <td>PyLadies</td>\n",
       "    </tr>\n",
       "    <tr>\n",
       "      <th>3</th>\n",
       "      <td>literal</td>\n",
       "      <td>pt</td>\n",
       "      <td>PyLadies</td>\n",
       "    </tr>\n",
       "  </tbody>\n",
       "</table>\n",
       "</div>"
      ],
      "text/plain": [
       "  object.type object.xml:lang object.value\n",
       "0     literal              ar    باي ليديز\n",
       "1     literal              es     PyLadies\n",
       "2     literal              en     PyLadies\n",
       "3     literal              pt     PyLadies"
      ]
     },
     "execution_count": 8,
     "metadata": {},
     "output_type": "execute_result"
    }
   ],
   "source": [
    "results.head()"
   ]
  },
  {
   "cell_type": "code",
   "execution_count": 9,
   "metadata": {
    "ExecuteTime": {
     "end_time": "2021-05-15T13:28:39.107309Z",
     "start_time": "2021-05-15T13:28:39.082280Z"
    }
   },
   "outputs": [
    {
     "data": {
      "text/plain": [
       "(4, 3)"
      ]
     },
     "execution_count": 9,
     "metadata": {},
     "output_type": "execute_result"
    }
   ],
   "source": [
    "results.shape"
   ]
  },
  {
   "cell_type": "code",
   "execution_count": 10,
   "metadata": {
    "ExecuteTime": {
     "end_time": "2021-05-15T13:28:39.158023Z",
     "start_time": "2021-05-15T13:28:39.113175Z"
    }
   },
   "outputs": [],
   "source": [
    "def exec_query(sparql, query):\n",
    "    sparql.setQuery(query)\n",
    "    sparql.setReturnFormat(JSON)\n",
    "    results = sparql.query().convert()\n",
    "    results = pd.json_normalize(results['results']['bindings'])\n",
    "    return results"
   ]
  },
  {
   "cell_type": "code",
   "execution_count": 11,
   "metadata": {
    "ExecuteTime": {
     "end_time": "2021-05-15T13:28:39.186748Z",
     "start_time": "2021-05-15T13:28:39.162352Z"
    }
   },
   "outputs": [
    {
     "data": {
      "text/plain": [
       "' SELECT ?object, ?abstract \\nWHERE { dbr:PyLadies rdfs:label ?object; dbo:abstract ?abstract .} '"
      ]
     },
     "execution_count": 11,
     "metadata": {},
     "output_type": "execute_result"
    }
   ],
   "source": [
    "query = ''' SELECT ?object, ?abstract \n",
    "WHERE { dbr:PyLadies rdfs:label ?object; dbo:abstract ?abstract .} '''\n",
    "query"
   ]
  },
  {
   "cell_type": "code",
   "execution_count": 12,
   "metadata": {
    "ExecuteTime": {
     "end_time": "2021-05-15T13:28:39.410548Z",
     "start_time": "2021-05-15T13:28:39.186748Z"
    }
   },
   "outputs": [
    {
     "data": {
      "text/html": [
       "<div>\n",
       "<style scoped>\n",
       "    .dataframe tbody tr th:only-of-type {\n",
       "        vertical-align: middle;\n",
       "    }\n",
       "\n",
       "    .dataframe tbody tr th {\n",
       "        vertical-align: top;\n",
       "    }\n",
       "\n",
       "    .dataframe thead th {\n",
       "        text-align: right;\n",
       "    }\n",
       "</style>\n",
       "<table border=\"1\" class=\"dataframe\">\n",
       "  <thead>\n",
       "    <tr style=\"text-align: right;\">\n",
       "      <th></th>\n",
       "      <th>object.type</th>\n",
       "      <th>object.xml:lang</th>\n",
       "      <th>object.value</th>\n",
       "      <th>abstract.type</th>\n",
       "      <th>abstract.xml:lang</th>\n",
       "      <th>abstract.value</th>\n",
       "    </tr>\n",
       "  </thead>\n",
       "  <tbody>\n",
       "    <tr>\n",
       "      <th>0</th>\n",
       "      <td>literal</td>\n",
       "      <td>ar</td>\n",
       "      <td>باي ليديز</td>\n",
       "      <td>literal</td>\n",
       "      <td>es</td>\n",
       "      <td>PyLadies es una asociación internacional de me...</td>\n",
       "    </tr>\n",
       "    <tr>\n",
       "      <th>1</th>\n",
       "      <td>literal</td>\n",
       "      <td>es</td>\n",
       "      <td>PyLadies</td>\n",
       "      <td>literal</td>\n",
       "      <td>es</td>\n",
       "      <td>PyLadies es una asociación internacional de me...</td>\n",
       "    </tr>\n",
       "    <tr>\n",
       "      <th>2</th>\n",
       "      <td>literal</td>\n",
       "      <td>en</td>\n",
       "      <td>PyLadies</td>\n",
       "      <td>literal</td>\n",
       "      <td>es</td>\n",
       "      <td>PyLadies es una asociación internacional de me...</td>\n",
       "    </tr>\n",
       "    <tr>\n",
       "      <th>3</th>\n",
       "      <td>literal</td>\n",
       "      <td>pt</td>\n",
       "      <td>PyLadies</td>\n",
       "      <td>literal</td>\n",
       "      <td>es</td>\n",
       "      <td>PyLadies es una asociación internacional de me...</td>\n",
       "    </tr>\n",
       "    <tr>\n",
       "      <th>4</th>\n",
       "      <td>literal</td>\n",
       "      <td>ar</td>\n",
       "      <td>باي ليديز</td>\n",
       "      <td>literal</td>\n",
       "      <td>en</td>\n",
       "      <td>PyLadies is an international mentorship group ...</td>\n",
       "    </tr>\n",
       "    <tr>\n",
       "      <th>5</th>\n",
       "      <td>literal</td>\n",
       "      <td>es</td>\n",
       "      <td>PyLadies</td>\n",
       "      <td>literal</td>\n",
       "      <td>en</td>\n",
       "      <td>PyLadies is an international mentorship group ...</td>\n",
       "    </tr>\n",
       "    <tr>\n",
       "      <th>6</th>\n",
       "      <td>literal</td>\n",
       "      <td>en</td>\n",
       "      <td>PyLadies</td>\n",
       "      <td>literal</td>\n",
       "      <td>en</td>\n",
       "      <td>PyLadies is an international mentorship group ...</td>\n",
       "    </tr>\n",
       "    <tr>\n",
       "      <th>7</th>\n",
       "      <td>literal</td>\n",
       "      <td>pt</td>\n",
       "      <td>PyLadies</td>\n",
       "      <td>literal</td>\n",
       "      <td>en</td>\n",
       "      <td>PyLadies is an international mentorship group ...</td>\n",
       "    </tr>\n",
       "    <tr>\n",
       "      <th>8</th>\n",
       "      <td>literal</td>\n",
       "      <td>ar</td>\n",
       "      <td>باي ليديز</td>\n",
       "      <td>literal</td>\n",
       "      <td>ar</td>\n",
       "      <td>باي ليديز (بالإنجليزية: PyLadies) هي مجموعة إر...</td>\n",
       "    </tr>\n",
       "    <tr>\n",
       "      <th>9</th>\n",
       "      <td>literal</td>\n",
       "      <td>es</td>\n",
       "      <td>PyLadies</td>\n",
       "      <td>literal</td>\n",
       "      <td>ar</td>\n",
       "      <td>باي ليديز (بالإنجليزية: PyLadies) هي مجموعة إر...</td>\n",
       "    </tr>\n",
       "    <tr>\n",
       "      <th>10</th>\n",
       "      <td>literal</td>\n",
       "      <td>en</td>\n",
       "      <td>PyLadies</td>\n",
       "      <td>literal</td>\n",
       "      <td>ar</td>\n",
       "      <td>باي ليديز (بالإنجليزية: PyLadies) هي مجموعة إر...</td>\n",
       "    </tr>\n",
       "    <tr>\n",
       "      <th>11</th>\n",
       "      <td>literal</td>\n",
       "      <td>pt</td>\n",
       "      <td>PyLadies</td>\n",
       "      <td>literal</td>\n",
       "      <td>ar</td>\n",
       "      <td>باي ليديز (بالإنجليزية: PyLadies) هي مجموعة إر...</td>\n",
       "    </tr>\n",
       "    <tr>\n",
       "      <th>12</th>\n",
       "      <td>literal</td>\n",
       "      <td>ar</td>\n",
       "      <td>باي ليديز</td>\n",
       "      <td>literal</td>\n",
       "      <td>pt</td>\n",
       "      <td>PyLadies é um grupo de mulheres desenvolvedora...</td>\n",
       "    </tr>\n",
       "    <tr>\n",
       "      <th>13</th>\n",
       "      <td>literal</td>\n",
       "      <td>es</td>\n",
       "      <td>PyLadies</td>\n",
       "      <td>literal</td>\n",
       "      <td>pt</td>\n",
       "      <td>PyLadies é um grupo de mulheres desenvolvedora...</td>\n",
       "    </tr>\n",
       "    <tr>\n",
       "      <th>14</th>\n",
       "      <td>literal</td>\n",
       "      <td>en</td>\n",
       "      <td>PyLadies</td>\n",
       "      <td>literal</td>\n",
       "      <td>pt</td>\n",
       "      <td>PyLadies é um grupo de mulheres desenvolvedora...</td>\n",
       "    </tr>\n",
       "    <tr>\n",
       "      <th>15</th>\n",
       "      <td>literal</td>\n",
       "      <td>pt</td>\n",
       "      <td>PyLadies</td>\n",
       "      <td>literal</td>\n",
       "      <td>pt</td>\n",
       "      <td>PyLadies é um grupo de mulheres desenvolvedora...</td>\n",
       "    </tr>\n",
       "  </tbody>\n",
       "</table>\n",
       "</div>"
      ],
      "text/plain": [
       "   object.type object.xml:lang object.value abstract.type abstract.xml:lang  \\\n",
       "0      literal              ar    باي ليديز       literal                es   \n",
       "1      literal              es     PyLadies       literal                es   \n",
       "2      literal              en     PyLadies       literal                es   \n",
       "3      literal              pt     PyLadies       literal                es   \n",
       "4      literal              ar    باي ليديز       literal                en   \n",
       "5      literal              es     PyLadies       literal                en   \n",
       "6      literal              en     PyLadies       literal                en   \n",
       "7      literal              pt     PyLadies       literal                en   \n",
       "8      literal              ar    باي ليديز       literal                ar   \n",
       "9      literal              es     PyLadies       literal                ar   \n",
       "10     literal              en     PyLadies       literal                ar   \n",
       "11     literal              pt     PyLadies       literal                ar   \n",
       "12     literal              ar    باي ليديز       literal                pt   \n",
       "13     literal              es     PyLadies       literal                pt   \n",
       "14     literal              en     PyLadies       literal                pt   \n",
       "15     literal              pt     PyLadies       literal                pt   \n",
       "\n",
       "                                       abstract.value  \n",
       "0   PyLadies es una asociación internacional de me...  \n",
       "1   PyLadies es una asociación internacional de me...  \n",
       "2   PyLadies es una asociación internacional de me...  \n",
       "3   PyLadies es una asociación internacional de me...  \n",
       "4   PyLadies is an international mentorship group ...  \n",
       "5   PyLadies is an international mentorship group ...  \n",
       "6   PyLadies is an international mentorship group ...  \n",
       "7   PyLadies is an international mentorship group ...  \n",
       "8   باي ليديز (بالإنجليزية: PyLadies) هي مجموعة إر...  \n",
       "9   باي ليديز (بالإنجليزية: PyLadies) هي مجموعة إر...  \n",
       "10  باي ليديز (بالإنجليزية: PyLadies) هي مجموعة إر...  \n",
       "11  باي ليديز (بالإنجليزية: PyLadies) هي مجموعة إر...  \n",
       "12  PyLadies é um grupo de mulheres desenvolvedora...  \n",
       "13  PyLadies é um grupo de mulheres desenvolvedora...  \n",
       "14  PyLadies é um grupo de mulheres desenvolvedora...  \n",
       "15  PyLadies é um grupo de mulheres desenvolvedora...  "
      ]
     },
     "execution_count": 12,
     "metadata": {},
     "output_type": "execute_result"
    }
   ],
   "source": [
    "exec_query(sparql, query)"
   ]
  },
  {
   "cell_type": "code",
   "execution_count": 13,
   "metadata": {
    "ExecuteTime": {
     "end_time": "2021-05-15T13:28:39.434757Z",
     "start_time": "2021-05-15T13:28:39.410548Z"
    }
   },
   "outputs": [
    {
     "data": {
      "text/plain": [
       "' SELECT ?object, ?abstract \\nWHERE { dbr:PyLadies rdfs:label ?object; dbo:abstract ?abstract.\\nFILTER(LANG(?object) = \"en\" && LANG(?abstract) = \"en\")} '"
      ]
     },
     "execution_count": 13,
     "metadata": {},
     "output_type": "execute_result"
    }
   ],
   "source": [
    "query = ''' SELECT ?object, ?abstract \n",
    "WHERE { dbr:PyLadies rdfs:label ?object; dbo:abstract ?abstract.\n",
    "FILTER(LANG(?object) = \"en\" && LANG(?abstract) = \"en\")} '''\n",
    "query"
   ]
  },
  {
   "cell_type": "code",
   "execution_count": 14,
   "metadata": {
    "ExecuteTime": {
     "end_time": "2021-05-15T13:28:39.603147Z",
     "start_time": "2021-05-15T13:28:39.434757Z"
    }
   },
   "outputs": [
    {
     "data": {
      "text/html": [
       "<div>\n",
       "<style scoped>\n",
       "    .dataframe tbody tr th:only-of-type {\n",
       "        vertical-align: middle;\n",
       "    }\n",
       "\n",
       "    .dataframe tbody tr th {\n",
       "        vertical-align: top;\n",
       "    }\n",
       "\n",
       "    .dataframe thead th {\n",
       "        text-align: right;\n",
       "    }\n",
       "</style>\n",
       "<table border=\"1\" class=\"dataframe\">\n",
       "  <thead>\n",
       "    <tr style=\"text-align: right;\">\n",
       "      <th></th>\n",
       "      <th>object.type</th>\n",
       "      <th>object.xml:lang</th>\n",
       "      <th>object.value</th>\n",
       "      <th>abstract.type</th>\n",
       "      <th>abstract.xml:lang</th>\n",
       "      <th>abstract.value</th>\n",
       "    </tr>\n",
       "  </thead>\n",
       "  <tbody>\n",
       "    <tr>\n",
       "      <th>0</th>\n",
       "      <td>literal</td>\n",
       "      <td>en</td>\n",
       "      <td>PyLadies</td>\n",
       "      <td>literal</td>\n",
       "      <td>en</td>\n",
       "      <td>PyLadies is an international mentorship group ...</td>\n",
       "    </tr>\n",
       "  </tbody>\n",
       "</table>\n",
       "</div>"
      ],
      "text/plain": [
       "  object.type object.xml:lang object.value abstract.type abstract.xml:lang  \\\n",
       "0     literal              en     PyLadies       literal                en   \n",
       "\n",
       "                                      abstract.value  \n",
       "0  PyLadies is an international mentorship group ...  "
      ]
     },
     "execution_count": 14,
     "metadata": {},
     "output_type": "execute_result"
    }
   ],
   "source": [
    "exec_query(sparql, query)"
   ]
  },
  {
   "cell_type": "code",
   "execution_count": null,
   "metadata": {},
   "outputs": [],
   "source": []
  }
 ],
 "metadata": {
  "kernelspec": {
   "display_name": "Python 3",
   "language": "python",
   "name": "python3"
  },
  "language_info": {
   "codemirror_mode": {
    "name": "ipython",
    "version": 3
   },
   "file_extension": ".py",
   "mimetype": "text/x-python",
   "name": "python",
   "nbconvert_exporter": "python",
   "pygments_lexer": "ipython3",
   "version": "3.8.5"
  },
  "toc": {
   "base_numbering": 1,
   "nav_menu": {},
   "number_sections": true,
   "sideBar": true,
   "skip_h1_title": false,
   "title_cell": "Table of Contents",
   "title_sidebar": "Contents",
   "toc_cell": false,
   "toc_position": {},
   "toc_section_display": true,
   "toc_window_display": false
  },
  "varInspector": {
   "cols": {
    "lenName": 16,
    "lenType": 16,
    "lenVar": 40
   },
   "kernels_config": {
    "python": {
     "delete_cmd_postfix": "",
     "delete_cmd_prefix": "del ",
     "library": "var_list.py",
     "varRefreshCmd": "print(var_dic_list())"
    },
    "r": {
     "delete_cmd_postfix": ") ",
     "delete_cmd_prefix": "rm(",
     "library": "var_list.r",
     "varRefreshCmd": "cat(var_dic_list()) "
    }
   },
   "types_to_exclude": [
    "module",
    "function",
    "builtin_function_or_method",
    "instance",
    "_Feature"
   ],
   "window_display": false
  }
 },
 "nbformat": 4,
 "nbformat_minor": 4
}
