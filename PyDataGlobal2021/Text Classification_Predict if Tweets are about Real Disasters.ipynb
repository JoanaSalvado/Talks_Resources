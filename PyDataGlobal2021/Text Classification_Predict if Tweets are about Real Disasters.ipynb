{
 "cells": [
  {
   "cell_type": "markdown",
   "metadata": {},
   "source": [
    "# Getting Started"
   ]
  },
  {
   "cell_type": "markdown",
   "metadata": {},
   "source": [
    "**TEXT CLASSIFICATION**\n",
    "\n",
    "\n",
    "\n",
    "**Dataset :** Natural Language Processing with Disaster Tweets is a Kaggle Challenge where tweets are collected with labels indicating whether the tweets are about a disaster that occurred or not. Since tweets are social media language, therefore, it is a challenge to automatically identify them. Besides, ambiguity in texts makes it more difficult to achieve automatic identification of tweets containing information on real disaster. The objective of this project is to predict using machine learning if a tweet contains information on occurrence of a real disaster or not.\n",
    "\n",
    "**Source :** https://www.kaggle.com/c/nlp-getting-started\n",
    "\n"
   ]
  },
  {
   "cell_type": "markdown",
   "metadata": {},
   "source": [
    "## Imports"
   ]
  },
  {
   "cell_type": "code",
   "execution_count": null,
   "metadata": {
    "ExecuteTime": {
     "end_time": "2021-10-28T20:23:43.832274Z",
     "start_time": "2021-10-28T20:23:43.799314Z"
    }
   },
   "outputs": [],
   "source": [
    "import re\n",
    "import time\n",
    "import numpy as np\n",
    "import pandas as pd\n",
    "import matplotlib.pyplot as plt\n",
    "import seaborn as sns\n",
    "plt.style.use('ggplot')\n",
    "plt.rcParams['font.size'] = 10\n",
    "plt.rcParams['axes.titlepad'] = 30 \n",
    "\n",
    "from collections import Counter\n",
    "from wordcloud import WordCloud\n",
    "from nltk import sent_tokenize, word_tokenize, TweetTokenizer\n",
    "from nltk.corpus import stopwords\n",
    "import string\n",
    "from PIL import Image\n",
    "import PIL.ImageOps\n",
    "from wordcloud import ImageColorGenerator\n",
    "import contractions\n",
    "STOPWORDS = set(stopwords.words('english'))\n",
    "from nltk.stem import WordNetLemmatizer\n",
    "wnl = WordNetLemmatizer()\n",
    "\n",
    "from sklearn.model_selection import train_test_split\n",
    "from sklearn.feature_extraction.text import CountVectorizer, TfidfTransformer, TfidfVectorizer\n",
    "\n",
    "from sklearn.linear_model import LogisticRegression\n",
    "from sklearn.metrics import precision_score, recall_score, f1_score, accuracy_score\n",
    "from sklearn.compose import ColumnTransformer\n",
    "from sklearn.pipeline import Pipeline, FeatureUnion\n",
    "\n",
    "import warnings\n",
    "warnings.filterwarnings('ignore')"
   ]
  },
  {
   "cell_type": "markdown",
   "metadata": {},
   "source": [
    "## Data Load"
   ]
  },
  {
   "cell_type": "code",
   "execution_count": null,
   "metadata": {
    "ExecuteTime": {
     "end_time": "2021-10-28T20:13:24.949153Z",
     "start_time": "2021-10-28T20:13:24.847490Z"
    }
   },
   "outputs": [],
   "source": [
    "df_train = pd.read_csv('data/train.csv')\n",
    "df_test = pd.read_csv('data/test.csv')"
   ]
  },
  {
   "cell_type": "markdown",
   "metadata": {},
   "source": [
    "# Exploratory Data Analysis"
   ]
  },
  {
   "cell_type": "code",
   "execution_count": null,
   "metadata": {
    "ExecuteTime": {
     "end_time": "2021-10-28T20:13:24.979148Z",
     "start_time": "2021-10-28T20:13:24.949153Z"
    }
   },
   "outputs": [],
   "source": [
    "df_train.head()"
   ]
  },
  {
   "cell_type": "code",
   "execution_count": null,
   "metadata": {
    "ExecuteTime": {
     "end_time": "2021-10-28T20:13:24.993568Z",
     "start_time": "2021-10-28T20:13:24.979148Z"
    }
   },
   "outputs": [],
   "source": [
    "df_train.shape"
   ]
  },
  {
   "cell_type": "markdown",
   "metadata": {},
   "source": [
    "**EDA Steps:**\n",
    "    \n",
    "1. Data Distribution\n",
    "2. Missing Values\n",
    "3. Cardinality for features and target\n",
    "4. Distribution of Target by keyword\n",
    "5. Distribution of Target by location\n",
    "6. Most frequently occurring words"
   ]
  },
  {
   "cell_type": "markdown",
   "metadata": {},
   "source": [
    "## Cardinality Check"
   ]
  },
  {
   "cell_type": "code",
   "execution_count": null,
   "metadata": {
    "ExecuteTime": {
     "end_time": "2021-10-28T20:13:25.023964Z",
     "start_time": "2021-10-28T20:13:24.993568Z"
    }
   },
   "outputs": [],
   "source": [
    "for col in df_train.columns:\n",
    "    print(\"{} has {} unique instances\".format(col, len(df_train[col].unique())))"
   ]
  },
  {
   "cell_type": "markdown",
   "metadata": {},
   "source": [
    "There are 7613 unique ids which is in accordance with the dataframe shape.\n",
    "\n",
    "This is a binar classification task and 'Target' has two classes."
   ]
  },
  {
   "cell_type": "code",
   "execution_count": null,
   "metadata": {
    "ExecuteTime": {
     "end_time": "2021-10-28T20:13:25.049571Z",
     "start_time": "2021-10-28T20:13:25.023964Z"
    }
   },
   "outputs": [],
   "source": [
    "df_train.info(verbose=True, null_counts=True)"
   ]
  },
  {
   "cell_type": "markdown",
   "metadata": {},
   "source": [
    "## Missing Values"
   ]
  },
  {
   "cell_type": "code",
   "execution_count": null,
   "metadata": {
    "ExecuteTime": {
     "end_time": "2021-10-28T20:13:25.280389Z",
     "start_time": "2021-10-28T20:13:25.049571Z"
    }
   },
   "outputs": [],
   "source": [
    "# Get the percentage of missing values\n",
    "output = df_train.isnull().sum() * 100  / len(df_train) \n",
    "# type(output) : Pandas Series\n",
    "\n",
    "# plot them\n",
    "plt.figure(figsize=[5,3])\n",
    "sns.barplot(y=list(output.index), x=list(output))\n",
    "plt.title('Missing Values by Columns')\n",
    "plt.show()"
   ]
  },
  {
   "cell_type": "markdown",
   "metadata": {},
   "source": [
    "Keyword and location has missing values. Location has 33% data missing. This missing data could be tackled by detecting location in tweets and filling them up. I will not be doing this since I will be using tf-idf on the tweet text joined with location. Therefore, this step is not required for modelling though could be useful for EDA.  "
   ]
  },
  {
   "cell_type": "code",
   "execution_count": null,
   "metadata": {
    "ExecuteTime": {
     "end_time": "2021-10-28T20:13:25.312881Z",
     "start_time": "2021-10-28T20:13:25.280389Z"
    }
   },
   "outputs": [],
   "source": [
    "df_train[~df_train['location'].isna()]"
   ]
  },
  {
   "cell_type": "markdown",
   "metadata": {},
   "source": [
    "Evident that the location information is not consistant. It is also possible to extract location information from text as in id 50."
   ]
  },
  {
   "cell_type": "code",
   "execution_count": null,
   "metadata": {
    "ExecuteTime": {
     "end_time": "2021-10-28T20:13:25.330338Z",
     "start_time": "2021-10-28T20:13:25.317373Z"
    }
   },
   "outputs": [],
   "source": [
    "df_train[df_train['id'] == 48]['text']"
   ]
  },
  {
   "cell_type": "markdown",
   "metadata": {},
   "source": [
    "## Column Names - STATIC"
   ]
  },
  {
   "cell_type": "markdown",
   "metadata": {},
   "source": [
    "I prefer standardizing column names:"
   ]
  },
  {
   "cell_type": "code",
   "execution_count": null,
   "metadata": {
    "ExecuteTime": {
     "end_time": "2021-10-28T20:13:25.354400Z",
     "start_time": "2021-10-28T20:13:25.335356Z"
    }
   },
   "outputs": [],
   "source": [
    "KEYWORD = 'keyword'\n",
    "ID = 'id'\n",
    "LOCATION = 'location'\n",
    "TEXT = 'text'\n",
    "TARGET = 'target'\n",
    "TEXT_TOKENIZED = 'Text Tokenized'\n",
    "SENTIMENT = 'Sentiment Score'\n",
    "SENTIMENT_ROUND = 'Sentiment Score (rounded off)'\n",
    "WORDS_PER_TWEET = 'Words Per Tweet'\n",
    "CHAR_PER_TWEET = 'Characters Per Tweet'\n",
    "LOCATIONS = 'Locations'\n",
    "ALL_TEXT = 'all_text'\n",
    "ALL_TEXT_JOINED = 'all_text_joined'\n",
    "NUM_IN_TWEETS = 'Number in Tweet'\n",
    "PUNCTUATION_COUNT = 'Punctuation Count Per Tweet'\n",
    "IDENTIFIABLE_LOCATION = 'Identifiable Location'\n",
    "IN_BOW = 'Present In BOW'"
   ]
  },
  {
   "cell_type": "markdown",
   "metadata": {},
   "source": [
    "## Keyword Analysis\n",
    "\n",
    "1. Which keywords have occurred the most?\n",
    "2. Which keywords have a higher percentage of tweets about real disasters?"
   ]
  },
  {
   "cell_type": "code",
   "execution_count": null,
   "metadata": {
    "ExecuteTime": {
     "end_time": "2021-10-28T20:59:23.047914Z",
     "start_time": "2021-10-28T20:59:11.774224Z"
    },
    "scrolled": false
   },
   "outputs": [],
   "source": [
    "plt.figure(figsize=[10, 60])\n",
    "sns.countplot(y=KEYWORD,\n",
    "              data=df_train,\n",
    "              palette=['grey'],\n",
    "              order=df_train[KEYWORD].value_counts().index)\n",
    "plt.xticks(rotation=90)\n",
    "plt.title(\"Keyword Count\")\n",
    "plt.show()"
   ]
  },
  {
   "cell_type": "code",
   "execution_count": null,
   "metadata": {
    "ExecuteTime": {
     "end_time": "2021-10-28T20:34:49.655753Z",
     "start_time": "2021-10-28T20:34:36.088445Z"
    },
    "scrolled": false
   },
   "outputs": [],
   "source": [
    "plt.figure(figsize=[10, 60])\n",
    "sns.countplot(y=KEYWORD, hue=TARGET, data=df_train, palette=['grey', 'red'])\n",
    "plt.xticks(rotation=90)\n",
    "plt.legend(loc='upper right')\n",
    "plt.title(\"Distribution of Target per Keyword \")\n",
    "plt.show()"
   ]
  },
  {
   "cell_type": "markdown",
   "metadata": {},
   "source": [
    "Blank spaces indicated by %20. Will require to clean this.\n",
    "\n",
    "From this chart, it is seen that 'derailment', 'debris' and 'wreckage' are all about real disaster tweets. \n",
    "\n",
    "Body20%bags contains the higest difference between real and non-real disaster tweets where the number of non-real disaster tweets is high. It is actually the highest."
   ]
  },
  {
   "cell_type": "code",
   "execution_count": null,
   "metadata": {
    "ExecuteTime": {
     "end_time": "2021-10-28T20:13:37.750126Z",
     "start_time": "2021-10-28T20:13:37.720943Z"
    }
   },
   "outputs": [],
   "source": [
    "df_train[(df_train[KEYWORD] == 'body%20bags') & (df_train[TARGET] == 1)][TEXT].values"
   ]
  },
  {
   "cell_type": "code",
   "execution_count": null,
   "metadata": {
    "ExecuteTime": {
     "end_time": "2021-10-28T20:13:37.805860Z",
     "start_time": "2021-10-28T20:13:37.753438Z"
    }
   },
   "outputs": [],
   "source": [
    "# Get keyword counts for tweets about real disasters\n",
    "real_disaster_keywords = df_train[df_train['target'] == 1].groupby(['keyword', 'target']).count()['id'].reset_index()\n",
    "real_disaster_keywords.head()"
   ]
  },
  {
   "cell_type": "code",
   "execution_count": null,
   "metadata": {
    "ExecuteTime": {
     "end_time": "2021-10-28T20:13:37.856618Z",
     "start_time": "2021-10-28T20:13:37.805860Z"
    }
   },
   "outputs": [],
   "source": [
    "# Get keyword counts for tweets not about real disasters\n",
    "unreal_disaster_keywords = df_train[df_train['target'] == 0].groupby(['keyword', 'target']).count()['id'].reset_index()\n",
    "unreal_disaster_keywords.head()"
   ]
  },
  {
   "cell_type": "code",
   "execution_count": null,
   "metadata": {
    "ExecuteTime": {
     "end_time": "2021-10-28T20:13:38.422094Z",
     "start_time": "2021-10-28T20:13:37.857174Z"
    }
   },
   "outputs": [],
   "source": [
    "plt.figure(figsize=[6, 5])\n",
    "sns.barplot(x=KEYWORD, y=ID, data=real_disaster_keywords.sort_values('id', ascending=False)[:10], palette='gist_heat')\n",
    "plt.xticks(rotation=60)\n",
    "plt.ylabel('Count')\n",
    "plt.title('Top 10 Keywords for Tweets about Real Disasters')\n",
    "plt.show()"
   ]
  },
  {
   "cell_type": "code",
   "execution_count": null,
   "metadata": {
    "ExecuteTime": {
     "end_time": "2021-10-28T20:13:39.102313Z",
     "start_time": "2021-10-28T20:13:38.424628Z"
    }
   },
   "outputs": [],
   "source": [
    "plt.figure(figsize=[6, 5])\n",
    "sns.barplot(x=KEYWORD, y=ID, data=unreal_disaster_keywords.sort_values('id', ascending=False)[:10], palette='gist_heat')\n",
    "plt.xticks(rotation=60)\n",
    "plt.ylabel('Count')\n",
    "plt.title('Top 10 Keywords for Tweets NOT about Real Disasters')\n",
    "plt.show()"
   ]
  },
  {
   "cell_type": "code",
   "execution_count": null,
   "metadata": {
    "ExecuteTime": {
     "end_time": "2021-10-28T21:06:00.548719Z",
     "start_time": "2021-10-28T21:06:00.493212Z"
    }
   },
   "outputs": [],
   "source": [
    "# Merge the counts and get calculate the probabilities that \n",
    "# if a particular keyword appears in a tweet, what is the probability that it is about a real disaster.\n",
    "\n",
    "merged_counts_keywords = pd.merge(\n",
    "    left=real_disaster_keywords,\n",
    "    right=unreal_disaster_keywords,\n",
    "    left_on=KEYWORD,\n",
    "    right_on=KEYWORD,\n",
    "    how='outer').drop(columns=['target_x', 'target_y']).fillna(0)\n",
    "\n",
    "merged_counts_keywords['prob_real_disasters'] = (\n",
    "    merged_counts_keywords['id_x'] -\n",
    "    merged_counts_keywords['id_y']) / merged_counts_keywords['id_x']\n",
    "\n",
    "top_prob_real_disaster_keywords = merged_counts_keywords.sort_values(\n",
    "    'prob_real_disasters', ascending=False)[:10]\n",
    "top_prob_real_disaster_keywords"
   ]
  },
  {
   "cell_type": "markdown",
   "metadata": {},
   "source": [
    "## Target Analysis\n",
    "\n",
    "**Imbalanced data** is a problem with classification tasks where the classes are not represented equally.Is the dataset balanced? "
   ]
  },
  {
   "cell_type": "code",
   "execution_count": null,
   "metadata": {
    "ExecuteTime": {
     "end_time": "2021-10-28T20:13:39.257732Z",
     "start_time": "2021-10-28T20:13:39.217755Z"
    }
   },
   "outputs": [],
   "source": [
    "df_train.target.value_counts() / len(df_train)"
   ]
  },
  {
   "cell_type": "code",
   "execution_count": null,
   "metadata": {
    "ExecuteTime": {
     "end_time": "2021-10-28T20:13:39.592164Z",
     "start_time": "2021-10-28T20:13:39.257732Z"
    }
   },
   "outputs": [],
   "source": [
    "sns.countplot(y=TARGET,\n",
    "              data=df_train[TARGET].replace({\n",
    "                  0: 'Not about Real Disaster',\n",
    "                  1: 'About Real Disaster'\n",
    "              }).reset_index(),\n",
    "              palette=['grey', 'red'])\n",
    "plt.title('Target Distribution')\n",
    "plt.ylabel(None)\n",
    "plt.xlabel('Count')\n",
    "plt.show()"
   ]
  },
  {
   "cell_type": "markdown",
   "metadata": {},
   "source": [
    "This dataset is slightly imbalanced which should not be a problem for us. The disprity is of ~1000 datapoints where the number of non-disastrous tweets are higher."
   ]
  },
  {
   "cell_type": "code",
   "execution_count": null,
   "metadata": {
    "ExecuteTime": {
     "end_time": "2021-10-28T20:13:39.950714Z",
     "start_time": "2021-10-28T20:13:39.596474Z"
    }
   },
   "outputs": [],
   "source": [
    "sns.countplot(x=TARGET, data=df_train[~df_train[LOCATION].isna()], palette=['grey', 'red'])\n",
    "plt.show()"
   ]
  },
  {
   "cell_type": "markdown",
   "metadata": {},
   "source": [
    "For the tweets whose location is NOT missing, the data imabalance is true in this case as well. Therefore, dropping the location null data will not help balancing the data."
   ]
  },
  {
   "cell_type": "code",
   "execution_count": null,
   "metadata": {
    "ExecuteTime": {
     "end_time": "2021-10-28T20:13:40.276441Z",
     "start_time": "2021-10-28T20:13:39.950714Z"
    }
   },
   "outputs": [],
   "source": [
    "sns.countplot(x=TARGET, data=df_train[df_train[LOCATION].isna()], palette=['grey', 'red'])\n",
    "plt.show()"
   ]
  },
  {
   "cell_type": "markdown",
   "metadata": {},
   "source": [
    "For the tweets whose location is missing, the data imabalance is true in this case as well."
   ]
  },
  {
   "cell_type": "markdown",
   "metadata": {},
   "source": [
    "## Top 20 locations\n",
    "\n",
    "Some locations are more prone to real disasters and it is highly likely that tweets from those locations will be about real disasters.\n",
    "\n",
    "Objectives:\n",
    "\n",
    "1. Nature of location data\n",
    "2. Most frequently occurring locations"
   ]
  },
  {
   "cell_type": "code",
   "execution_count": null,
   "metadata": {
    "ExecuteTime": {
     "end_time": "2021-10-28T20:13:40.329663Z",
     "start_time": "2021-10-28T20:13:40.284446Z"
    }
   },
   "outputs": [],
   "source": [
    "df_train[df_train[TARGET] == 1].groupby(LOCATION)[TARGET].count().reset_index()"
   ]
  },
  {
   "cell_type": "markdown",
   "metadata": {},
   "source": [
    "There are some \n",
    "* gibberish locations\n",
    "* latitudes and longitudes\n",
    "* english words in location"
   ]
  },
  {
   "cell_type": "code",
   "execution_count": null,
   "metadata": {
    "ExecuteTime": {
     "end_time": "2021-10-28T20:13:40.388083Z",
     "start_time": "2021-10-28T20:13:40.335442Z"
    }
   },
   "outputs": [],
   "source": [
    "df_train[df_train[TARGET] == 1].groupby(\n",
    "    LOCATION)[TARGET].count().reset_index().sort_values(by=TARGET)"
   ]
  },
  {
   "cell_type": "markdown",
   "metadata": {},
   "source": [
    "There are -\n",
    "* city\n",
    "* city, state\n",
    "* city, country\n",
    "* country abbreviation\n",
    "* country name\n",
    "* city, country / worldwide"
   ]
  },
  {
   "cell_type": "code",
   "execution_count": null,
   "metadata": {
    "ExecuteTime": {
     "end_time": "2021-10-28T20:35:26.496235Z",
     "start_time": "2021-10-28T20:35:25.700492Z"
    }
   },
   "outputs": [],
   "source": [
    "plt.figure(figsize=[18, 10])\n",
    "sns.barplot(x=LOCATION,\n",
    "            y=TARGET,\n",
    "            data=df_train[df_train[TARGET] == 1].groupby(LOCATION)\n",
    "            [TARGET].count().reset_index().sort_values(by=TARGET,\n",
    "                                                       ascending=False)[:20],\n",
    "            palette='gist_heat'\n",
    "           )\n",
    "plt.xticks(rotation=90)\n",
    "plt.title('Top 20 Most Frequently Appearing Locations for Tweets about Real Disaster')\n",
    "plt.xlabel('Tweet Post Locations')\n",
    "plt.ylabel('Counts')\n",
    "plt.show()"
   ]
  },
  {
   "cell_type": "markdown",
   "metadata": {},
   "source": [
    "There is an overlap of countries, cities and there are also co-ordinate information plus some gibberish data."
   ]
  },
  {
   "cell_type": "markdown",
   "metadata": {},
   "source": [
    "## Text Data Check"
   ]
  },
  {
   "cell_type": "markdown",
   "metadata": {},
   "source": [
    "Here is have random tweet text checks  to see what is in there"
   ]
  },
  {
   "cell_type": "code",
   "execution_count": null,
   "metadata": {
    "ExecuteTime": {
     "end_time": "2021-10-28T20:13:41.394945Z",
     "start_time": "2021-10-28T20:13:41.362479Z"
    }
   },
   "outputs": [],
   "source": [
    "df_train[TEXT][8], df_train[TARGET][8]"
   ]
  },
  {
   "cell_type": "code",
   "execution_count": null,
   "metadata": {
    "ExecuteTime": {
     "end_time": "2021-10-28T20:13:41.416377Z",
     "start_time": "2021-10-28T20:13:41.400755Z"
    }
   },
   "outputs": [],
   "source": [
    "df_train[TEXT][20], df_train[TARGET][20]"
   ]
  },
  {
   "cell_type": "code",
   "execution_count": null,
   "metadata": {
    "ExecuteTime": {
     "end_time": "2021-10-28T20:13:41.443477Z",
     "start_time": "2021-10-28T20:13:41.421135Z"
    }
   },
   "outputs": [],
   "source": [
    "df_train[TEXT][1000] , df_train[TARGET][1000]"
   ]
  },
  {
   "cell_type": "code",
   "execution_count": null,
   "metadata": {
    "ExecuteTime": {
     "end_time": "2021-10-28T20:13:41.468683Z",
     "start_time": "2021-10-28T20:13:41.448320Z"
    }
   },
   "outputs": [],
   "source": [
    "df_train[TEXT][2000] , df_train[TARGET][2000]"
   ]
  },
  {
   "cell_type": "markdown",
   "metadata": {},
   "source": [
    "## Test Data Check"
   ]
  },
  {
   "cell_type": "code",
   "execution_count": null,
   "metadata": {
    "ExecuteTime": {
     "end_time": "2021-10-28T20:13:41.503061Z",
     "start_time": "2021-10-28T20:13:41.468683Z"
    }
   },
   "outputs": [],
   "source": [
    "df_test.head()"
   ]
  },
  {
   "cell_type": "code",
   "execution_count": null,
   "metadata": {
    "ExecuteTime": {
     "end_time": "2021-10-28T20:13:41.537846Z",
     "start_time": "2021-10-28T20:13:41.503061Z"
    }
   },
   "outputs": [],
   "source": [
    "df_test.isnull().sum()"
   ]
  },
  {
   "cell_type": "markdown",
   "metadata": {},
   "source": [
    "**Notes:**\n",
    "\n",
    "To remove:\n",
    "1. urls from the texts, \n",
    "2. html tags\n",
    "3. mentions using @.\n",
    "4. %20 from keywords\n",
    "\n",
    "Will retain hashtags since importance information lies in hasgtags but will remove the # in them."
   ]
  },
  {
   "cell_type": "markdown",
   "metadata": {},
   "source": [
    "# Basic Cleaning"
   ]
  },
  {
   "cell_type": "markdown",
   "metadata": {},
   "source": [
    "A regular expression or regex is a set of characters, or a pattern, which is used to find sub strings in a given string like getting urls, numbers, extracting all hashtags and mentions from a tweet from a large unstructured corpus.\n",
    "\n",
    "In python, re.sub does the job of substituting a detected pattern with a substitute in an input string. The syntax is as follows:\n",
    "\n",
    "```re.sub(pattern, replacement, input)```\n",
    "\n",
    "Other options are - findall, fullmatch, split"
   ]
  },
  {
   "cell_type": "markdown",
   "metadata": {},
   "source": [
    "## Cleaning Tests"
   ]
  },
  {
   "cell_type": "code",
   "execution_count": null,
   "metadata": {
    "ExecuteTime": {
     "end_time": "2021-10-28T20:13:41.569280Z",
     "start_time": "2021-10-28T20:13:41.537846Z"
    }
   },
   "outputs": [],
   "source": [
    "test_string = 'I am at https://www.nabanita.org www.nabanita.org okay'\n",
    "url_pattern = r'(www.|http[s]?://)(?:[a-zA-Z]|[0-9]|[$-_@.&+]|[!*\\(\\),]|(?:%[0-9a-fA-F][0-9a-fA-F]))+'\n",
    "test_op = re.sub(url_pattern, '', test_string)\n",
    "test_op"
   ]
  },
  {
   "cell_type": "code",
   "execution_count": null,
   "metadata": {
    "ExecuteTime": {
     "end_time": "2021-10-28T20:13:41.595284Z",
     "start_time": "2021-10-28T20:13:41.574764Z"
    }
   },
   "outputs": [],
   "source": [
    "test_string = 'I am at <p>www.nabanita.org &nbsp;</p>'\n",
    "html_entities = r'<.*?>|&([a-z0-9]+|#[0-9]{1,6}|#x[0-9a-f]{1,6});'\n",
    "test_op = re.sub(html_entities, '', test_string)\n",
    "test_op"
   ]
  },
  {
   "cell_type": "code",
   "execution_count": null,
   "metadata": {
    "ExecuteTime": {
     "end_time": "2021-10-28T20:13:41.654136Z",
     "start_time": "2021-10-28T20:13:41.623870Z"
    }
   },
   "outputs": [],
   "source": [
    "test_string = 'I am at @nabanita #python testing 123'\n",
    "html_entities = r'@([a-z0-9]+)|#'\n",
    "test_op = re.sub(html_entities, '', test_string)\n",
    "test_op"
   ]
  },
  {
   "cell_type": "markdown",
   "metadata": {},
   "source": [
    "A tweet might tag news channels as well which contains the word 'news'. If they are twitter handles, then the information will be lost. Hence adding this function to add the keyword news to the tweet if the word is present in the tweet text."
   ]
  },
  {
   "cell_type": "markdown",
   "metadata": {},
   "source": [
    "## Text Preprocessing Functions"
   ]
  },
  {
   "cell_type": "code",
   "execution_count": null,
   "metadata": {
    "ExecuteTime": {
     "end_time": "2021-10-28T20:13:41.701058Z",
     "start_time": "2021-10-28T20:13:41.654136Z"
    }
   },
   "outputs": [],
   "source": [
    "def remove_urls(text):\n",
    "    ''' This method takes in text to remove urls and website links, if any'''\n",
    "    url_pattern = r'(www.|http[s]?://)(?:[a-zA-Z]|[0-9]|[$-_@.&+]|[!*\\(\\),]|(?:%[0-9a-fA-F][0-9a-fA-F]))+'\n",
    "    text = re.sub(url_pattern, '', text)\n",
    "    return text\n",
    "\n",
    "def remove_html_entities(text):\n",
    "    ''' This method removes html tags'''\n",
    "    html_entities = r'<.*?>|&([a-z0-9]+|#[0-9]{1,6}|#x[0-9a-f]{1,6});'\n",
    "    text = re.sub(html_entities, '', text)\n",
    "    return text\n",
    "\n",
    "def convert_lower_case(text):\n",
    "    return text.lower()\n",
    "\n",
    "def detect_news(text):\n",
    "    '''Appends news to the end of the tweet if news appears anywhere in the tweet. \n",
    "    This is to avoid missing out on the keyword 'news' if it occured in a mention, for ex: @SomeNewsChannel'''\n",
    "    if 'news' in text: \n",
    "        text = text + ' news'\n",
    "    return text\n",
    "\n",
    "def remove_social_media_tags(text):\n",
    "    ''' This method removes @ and # tags'''\n",
    "    tag_pattern = r'@([a-z0-9]+)|#'\n",
    "    text = re.sub(tag_pattern, '', text)\n",
    "    return text\n",
    "\n",
    "# Count it before I remove them altogether\n",
    "def count_punctuations(text):\n",
    "    getpunctuation = re.findall('[.?\"\\'`\\,\\-\\!:;\\(\\)\\[\\]\\\\/“”]+?',text)\n",
    "    return len(getpunctuation)\n",
    "\n",
    "def preprocess_text(x):\n",
    "    cleaned_text = re.sub(r'[^a-zA-Z\\d\\s]+', '', x)\n",
    "    word_list = []\n",
    "    for each_word in cleaned_text.split(' '):\n",
    "        word_list.append(contractions.fix(each_word).lower())\n",
    "    word_list = [wnl.lemmatize(each_word.strip()) for each_word in word_list if each_word not in STOPWORDS and each_word.strip() != '']\n",
    "    return \" \".join(word_list)"
   ]
  },
  {
   "cell_type": "code",
   "execution_count": null,
   "metadata": {
    "ExecuteTime": {
     "end_time": "2021-10-28T20:13:48.190878Z",
     "start_time": "2021-10-28T20:13:41.701058Z"
    }
   },
   "outputs": [],
   "source": [
    "df_train[TEXT] = df_train[TEXT].apply(remove_urls)\n",
    "df_train[TEXT] = df_train[TEXT].apply(remove_html_entities)\n",
    "df_train[TEXT] = df_train[TEXT].apply(convert_lower_case)\n",
    "df_train[TEXT] = df_train[TEXT].apply(detect_news)\n",
    "df_train[TEXT] = df_train[TEXT].apply(remove_social_media_tags)\n",
    "df_train[PUNCTUATION_COUNT] = df_train[TEXT].apply(count_punctuations)\n",
    "df_train[TEXT] = df_train[TEXT].apply(preprocess_text)"
   ]
  },
  {
   "cell_type": "code",
   "execution_count": null,
   "metadata": {
    "ExecuteTime": {
     "end_time": "2021-10-28T20:13:48.226170Z",
     "start_time": "2021-10-28T20:13:48.190878Z"
    }
   },
   "outputs": [],
   "source": [
    "df_train.head()"
   ]
  },
  {
   "cell_type": "code",
   "execution_count": null,
   "metadata": {
    "ExecuteTime": {
     "end_time": "2021-10-28T20:13:48.261876Z",
     "start_time": "2021-10-28T20:13:48.229879Z"
    }
   },
   "outputs": [],
   "source": [
    "# Test\n",
    "\n",
    "# Expected to remove @FoxNews but have ' news' in the tweet text\n",
    "\n",
    "df_train[(df_train[KEYWORD] == 'body%20bags') & (df_train[TARGET] == 1)][TEXT].values"
   ]
  },
  {
   "cell_type": "markdown",
   "metadata": {},
   "source": [
    "## Punctuation Analysis"
   ]
  },
  {
   "cell_type": "code",
   "execution_count": null,
   "metadata": {
    "ExecuteTime": {
     "end_time": "2021-10-28T20:13:48.794608Z",
     "start_time": "2021-10-28T20:13:48.261876Z"
    }
   },
   "outputs": [],
   "source": [
    "sns.boxplot(x=TARGET,\n",
    "            y=PUNCTUATION_COUNT,\n",
    "            data=df_train,\n",
    "            palette=['grey', 'red'])\n",
    "plt.title('Punctuation Analysis')\n",
    "plt.xticks(labels=['Not Real Disasters', 'Real Disasters'], ticks=[0, 1])\n",
    "plt.xlabel('Target')\n",
    "plt.ylabel('Punctuation Count')\n",
    "plt.show()"
   ]
  },
  {
   "cell_type": "markdown",
   "metadata": {},
   "source": [
    "## Keyword Check"
   ]
  },
  {
   "cell_type": "code",
   "execution_count": null,
   "metadata": {
    "ExecuteTime": {
     "end_time": "2021-10-28T21:50:48.334156Z",
     "start_time": "2021-10-28T21:50:48.306022Z"
    }
   },
   "outputs": [],
   "source": [
    "def clean_keyword(text):\n",
    "    if text is not np.nan and text:\n",
    "        text = text.replace('%20', ' ')\n",
    "    return text"
   ]
  },
  {
   "cell_type": "code",
   "execution_count": null,
   "metadata": {
    "ExecuteTime": {
     "end_time": "2021-10-28T21:50:48.728300Z",
     "start_time": "2021-10-28T21:50:48.699396Z"
    }
   },
   "outputs": [],
   "source": [
    "df_train[KEYWORD] = df_train[KEYWORD].apply(clean_keyword)"
   ]
  },
  {
   "cell_type": "code",
   "execution_count": null,
   "metadata": {
    "ExecuteTime": {
     "end_time": "2021-10-28T21:51:21.187638Z",
     "start_time": "2021-10-28T21:51:21.171639Z"
    }
   },
   "outputs": [],
   "source": [
    "df_train[KEYWORD].unique()"
   ]
  },
  {
   "cell_type": "markdown",
   "metadata": {},
   "source": [
    "# Mention of Numbers in Tweets\n",
    "\n",
    "Information on real disasters usually have a casualty count in numbers. Therefore, it is worth analyzing if numbers are present in the tweets."
   ]
  },
  {
   "cell_type": "code",
   "execution_count": null,
   "metadata": {
    "ExecuteTime": {
     "end_time": "2021-10-28T20:14:02.281792Z",
     "start_time": "2021-10-28T20:14:02.265093Z"
    }
   },
   "outputs": [],
   "source": [
    "def get_numbers_in_tweet(text):\n",
    "    list_numbers = re.findall(r'\\d+', text)\n",
    "    if list_numbers:\n",
    "        return 1\n",
    "    return 0"
   ]
  },
  {
   "cell_type": "code",
   "execution_count": null,
   "metadata": {
    "ExecuteTime": {
     "end_time": "2021-10-28T20:14:02.367501Z",
     "start_time": "2021-10-28T20:14:02.281792Z"
    }
   },
   "outputs": [],
   "source": [
    "df_train[NUM_IN_TWEETS] = df_train[TEXT].apply(get_numbers_in_tweet)"
   ]
  },
  {
   "cell_type": "code",
   "execution_count": null,
   "metadata": {
    "ExecuteTime": {
     "end_time": "2021-10-28T20:14:02.410038Z",
     "start_time": "2021-10-28T20:14:02.367501Z"
    }
   },
   "outputs": [],
   "source": [
    "df_train.info()"
   ]
  },
  {
   "cell_type": "code",
   "execution_count": null,
   "metadata": {
    "ExecuteTime": {
     "end_time": "2021-10-28T20:14:02.826676Z",
     "start_time": "2021-10-28T20:14:02.415813Z"
    }
   },
   "outputs": [],
   "source": [
    "sns.countplot(x=TARGET, hue=NUM_IN_TWEETS, data=df_train)\n",
    "plt.xticks(labels=['Not Real Disasters', 'Real Disasters'], ticks = [0, 1])\n",
    "plt.xlabel('Target')\n",
    "plt.ylabel('Count')\n",
    "plt.title('Appearance of Numbers in Tweets')\n",
    "plt.legend(labels=['Numbers Absent', 'Numbers Present'])\n",
    "plt.show()"
   ]
  },
  {
   "cell_type": "markdown",
   "metadata": {},
   "source": [
    "About 50% of the tweets about real disatsers have numbers present."
   ]
  },
  {
   "cell_type": "markdown",
   "metadata": {},
   "source": [
    "# Sentiment Analysis"
   ]
  },
  {
   "cell_type": "code",
   "execution_count": null,
   "metadata": {
    "ExecuteTime": {
     "end_time": "2021-10-28T20:14:12.161524Z",
     "start_time": "2021-10-28T20:14:02.830677Z"
    }
   },
   "outputs": [],
   "source": [
    "import spacy\n",
    "from spacytextblob.spacytextblob import SpacyTextBlob"
   ]
  },
  {
   "cell_type": "code",
   "execution_count": null,
   "metadata": {
    "ExecuteTime": {
     "end_time": "2021-10-28T20:14:13.585444Z",
     "start_time": "2021-10-28T20:14:12.164908Z"
    }
   },
   "outputs": [],
   "source": [
    "nlp = spacy.load('en_core_web_sm')\n",
    "nlp.add_pipe('spacytextblob')"
   ]
  },
  {
   "cell_type": "code",
   "execution_count": null,
   "metadata": {
    "ExecuteTime": {
     "end_time": "2021-10-28T20:16:21.420125Z",
     "start_time": "2021-10-28T20:14:13.585444Z"
    }
   },
   "outputs": [],
   "source": [
    "df_train[SENTIMENT] = df_train[TEXT].apply(lambda x: nlp(x)._.polarity)"
   ]
  },
  {
   "cell_type": "code",
   "execution_count": null,
   "metadata": {
    "ExecuteTime": {
     "end_time": "2021-10-28T20:16:21.467844Z",
     "start_time": "2021-10-28T20:16:21.420125Z"
    }
   },
   "outputs": [],
   "source": [
    "df_train.head()"
   ]
  },
  {
   "cell_type": "code",
   "execution_count": null,
   "metadata": {
    "ExecuteTime": {
     "end_time": "2021-10-28T20:16:24.738897Z",
     "start_time": "2021-10-28T20:16:21.469293Z"
    }
   },
   "outputs": [],
   "source": [
    "sns.displot(x=SENTIMENT, hue=TARGET, data=df_train, kde=True)\n",
    "plt.show()"
   ]
  },
  {
   "cell_type": "code",
   "execution_count": null,
   "metadata": {
    "ExecuteTime": {
     "end_time": "2021-10-28T20:16:24.754323Z",
     "start_time": "2021-10-28T20:16:24.738897Z"
    }
   },
   "outputs": [],
   "source": [
    "def sentiment_to_binary(x):\n",
    "    if x > 0:\n",
    "        return 1\n",
    "    else:\n",
    "        return 0"
   ]
  },
  {
   "cell_type": "code",
   "execution_count": null,
   "metadata": {
    "ExecuteTime": {
     "end_time": "2021-10-28T20:16:24.810385Z",
     "start_time": "2021-10-28T20:16:24.760372Z"
    }
   },
   "outputs": [],
   "source": [
    "df_train[SENTIMENT_ROUND] = df_train[SENTIMENT].apply(sentiment_to_binary)\n",
    "df_train.head()"
   ]
  },
  {
   "cell_type": "code",
   "execution_count": null,
   "metadata": {
    "ExecuteTime": {
     "end_time": "2021-10-28T20:16:24.838216Z",
     "start_time": "2021-10-28T20:16:24.810385Z"
    }
   },
   "outputs": [],
   "source": [
    "df_train[SENTIMENT_ROUND].value_counts()"
   ]
  },
  {
   "cell_type": "code",
   "execution_count": null,
   "metadata": {
    "ExecuteTime": {
     "end_time": "2021-10-28T20:16:25.237531Z",
     "start_time": "2021-10-28T20:16:24.838216Z"
    },
    "scrolled": true
   },
   "outputs": [],
   "source": [
    "sns.countplot(x=TARGET, hue=SENTIMENT_ROUND, data=df_train)\n",
    "plt.title('Sentiment Analysis')\n",
    "plt.xticks(labels=['Not Real Disasters', 'Real Disasters'], ticks=[0, 1])\n",
    "plt.xlabel('Target')\n",
    "plt.ylabel('Counts')\n",
    "# plt.ylabel('Punctuation Count')\n",
    "plt.legend(labels=['Negative', 'Positive'])\n",
    "plt.show()"
   ]
  },
  {
   "cell_type": "markdown",
   "metadata": {},
   "source": [
    "The percentage of negative sentiment is more in tweets about real disasters than in tweets not about real disasters."
   ]
  },
  {
   "cell_type": "markdown",
   "metadata": {},
   "source": [
    "# Tweet Length Analysis\n",
    "\n",
    "Are the tweets about real disasters shorter or longer in nature?"
   ]
  },
  {
   "cell_type": "code",
   "execution_count": null,
   "metadata": {
    "ExecuteTime": {
     "end_time": "2021-10-28T20:16:27.713813Z",
     "start_time": "2021-10-28T20:16:25.239698Z"
    }
   },
   "outputs": [],
   "source": [
    "df_train[TEXT_TOKENIZED] = df_train[TEXT].apply(word_tokenize)"
   ]
  },
  {
   "cell_type": "code",
   "execution_count": null,
   "metadata": {
    "ExecuteTime": {
     "end_time": "2021-10-28T20:16:27.765731Z",
     "start_time": "2021-10-28T20:16:27.713813Z"
    }
   },
   "outputs": [],
   "source": [
    "df_train.head()"
   ]
  },
  {
   "cell_type": "code",
   "execution_count": null,
   "metadata": {
    "ExecuteTime": {
     "end_time": "2021-10-28T20:16:27.798639Z",
     "start_time": "2021-10-28T20:16:27.766720Z"
    }
   },
   "outputs": [],
   "source": [
    "df_train[WORDS_PER_TWEET] = df_train[TEXT_TOKENIZED].apply(len)\n",
    "df_train[CHAR_PER_TWEET] = df_train[TEXT].apply(len)"
   ]
  },
  {
   "cell_type": "code",
   "execution_count": null,
   "metadata": {
    "ExecuteTime": {
     "end_time": "2021-10-28T22:03:10.119407Z",
     "start_time": "2021-10-28T22:03:09.231679Z"
    }
   },
   "outputs": [],
   "source": [
    "sns.histplot(x=WORDS_PER_TWEET, hue=TARGET, data=df_train, kde=True)\n",
    "plt.title('Tweet Length Analysis - Words')\n",
    "plt.legend([])\n",
    "plt.show()\n",
    "sns.histplot(x=CHAR_PER_TWEET, hue=TARGET, data=df_train, kde=True)\n",
    "plt.title('Tweet Analysis - Characters')\n",
    "plt.legend(labels=['Not about Real Disasters', 'About Real Disasters'], loc='best', bbox_to_anchor=(1.1, 0., 0.5, 0.5))\n",
    "plt.show()"
   ]
  },
  {
   "cell_type": "markdown",
   "metadata": {},
   "source": [
    "# Tweet Text Analysis using WordCloud"
   ]
  },
  {
   "cell_type": "code",
   "execution_count": null,
   "metadata": {
    "ExecuteTime": {
     "end_time": "2021-10-28T20:16:29.853440Z",
     "start_time": "2021-10-28T20:16:29.816217Z"
    }
   },
   "outputs": [],
   "source": [
    "real_disaster_tweets = ' '. join(list(df_train[df_train[TARGET] == 1][TEXT]))"
   ]
  },
  {
   "cell_type": "code",
   "execution_count": null,
   "metadata": {
    "ExecuteTime": {
     "end_time": "2021-10-28T20:16:29.882469Z",
     "start_time": "2021-10-28T20:16:29.853440Z"
    }
   },
   "outputs": [],
   "source": [
    "non_real_disaster_tweets = ' '. join(list(df_train[df_train[TARGET] == 0][TEXT]))"
   ]
  },
  {
   "cell_type": "code",
   "execution_count": null,
   "metadata": {
    "ExecuteTime": {
     "end_time": "2021-10-28T20:16:33.608764Z",
     "start_time": "2021-10-28T20:16:29.882469Z"
    }
   },
   "outputs": [],
   "source": [
    "wc = WordCloud(background_color=\"black\", \n",
    "               max_words=100, \n",
    "               width=1000, \n",
    "               height=600, \n",
    "               random_state=1).generate(real_disaster_tweets)\n",
    "\n",
    "plt.figure(figsize=(15,15))\n",
    "plt.imshow(wc)\n",
    "plt.axis(\"off\")\n",
    "plt.title(\"Wordcloud of Tweets about Real Disasters\")\n",
    "plt.show()"
   ]
  },
  {
   "cell_type": "code",
   "execution_count": null,
   "metadata": {
    "ExecuteTime": {
     "end_time": "2021-10-28T20:16:37.423282Z",
     "start_time": "2021-10-28T20:16:33.611582Z"
    }
   },
   "outputs": [],
   "source": [
    "wc = WordCloud(background_color=\"black\", \n",
    "               max_words=100, \n",
    "               width=1000, \n",
    "               height=600,\n",
    "               font_step=1,\n",
    "               random_state=1).generate(non_real_disaster_tweets)\n",
    "\n",
    "plt.figure(figsize=(15,15))\n",
    "plt.imshow(wc)\n",
    "plt.axis(\"off\")\n",
    "plt.title(\"Wordcloud of Tweets NOT about Real Disasters\")\n",
    "plt.show()"
   ]
  },
  {
   "cell_type": "markdown",
   "metadata": {},
   "source": [
    "Emojis are present in the text, as evident on the wordcloud. Therefore, they need to be either detected or removed. I will not be addressing emoji detection in this project."
   ]
  },
  {
   "cell_type": "markdown",
   "metadata": {},
   "source": [
    "# Location Analysis\n",
    "\n",
    "Do tweets about real disasters have more standard locations which are detectable by NER?"
   ]
  },
  {
   "cell_type": "code",
   "execution_count": null,
   "metadata": {
    "ExecuteTime": {
     "end_time": "2021-10-28T20:17:56.648805Z",
     "start_time": "2021-10-28T20:16:39.039066Z"
    }
   },
   "outputs": [],
   "source": [
    "def check_location(x):\n",
    "    ''' This method checks if the tweet location has any actual location \n",
    "    and saves them as as space-separated value if more than one.\n",
    "    If no location is found, then save blank'''\n",
    "    spacy_loc = nlp(x)\n",
    "    num_loc_in_tweet = len([ent.label_ for ent in spacy_loc.ents if ent.label_ == 'GPE'])\n",
    "    if num_loc_in_tweet:\n",
    "        locs_in_tweet = [ent.text for ent in spacy_loc.ents if ent.label_ == 'GPE']\n",
    "    else:\n",
    "        return [], 0\n",
    "    return locs_in_tweet, 1\n",
    "\n",
    "df_train[LOCATION].fillna('', inplace=True)\n",
    "df_train[LOCATIONS], df_train[IDENTIFIABLE_LOCATION] = zip(*df_train[LOCATION].apply(check_location))"
   ]
  },
  {
   "cell_type": "code",
   "execution_count": null,
   "metadata": {
    "ExecuteTime": {
     "end_time": "2021-10-28T22:05:18.597577Z",
     "start_time": "2021-10-28T22:05:18.358504Z"
    }
   },
   "outputs": [],
   "source": [
    "sns.countplot(x=TARGET, hue=IDENTIFIABLE_LOCATION, data=df_train, palette=['grey', 'red'])\n",
    "plt.legend(labels=['Location Unidentified', 'Location Identified'], loc='best', bbox_to_anchor=(1.1, 0., 0.5, 0.5))\n",
    "plt.show()"
   ]
  },
  {
   "cell_type": "markdown",
   "metadata": {},
   "source": [
    "Tweets about real disasters have a slightly higher percentage of location identified by the named-entity identifier."
   ]
  },
  {
   "cell_type": "markdown",
   "metadata": {},
   "source": [
    "# Final Text Data Preparation"
   ]
  },
  {
   "cell_type": "code",
   "execution_count": null,
   "metadata": {
    "ExecuteTime": {
     "end_time": "2021-10-28T20:17:57.119244Z",
     "start_time": "2021-10-28T20:17:57.056187Z"
    }
   },
   "outputs": [],
   "source": [
    "df_train.head()"
   ]
  },
  {
   "cell_type": "code",
   "execution_count": null,
   "metadata": {
    "ExecuteTime": {
     "end_time": "2021-10-28T20:17:57.198606Z",
     "start_time": "2021-10-28T20:17:57.119244Z"
    }
   },
   "outputs": [],
   "source": [
    "df_train[ALL_TEXT] = df_train[TEXT_TOKENIZED] + df_train[LOCATIONS]\n",
    "df_train.head()"
   ]
  },
  {
   "cell_type": "code",
   "execution_count": null,
   "metadata": {
    "ExecuteTime": {
     "end_time": "2021-10-28T20:17:57.224243Z",
     "start_time": "2021-10-28T20:17:57.198606Z"
    }
   },
   "outputs": [],
   "source": [
    "target = df_train[TARGET].values"
   ]
  },
  {
   "cell_type": "code",
   "execution_count": null,
   "metadata": {
    "ExecuteTime": {
     "end_time": "2021-10-28T20:17:57.266679Z",
     "start_time": "2021-10-28T20:17:57.224243Z"
    }
   },
   "outputs": [],
   "source": [
    "df_train[ALL_TEXT_JOINED] = df_train[ALL_TEXT].apply(lambda x: \" \".join(x))"
   ]
  },
  {
   "cell_type": "markdown",
   "metadata": {},
   "source": [
    "The training data is ready now. Next step, prepping the test data."
   ]
  },
  {
   "cell_type": "markdown",
   "metadata": {},
   "source": [
    "# Test Data Preparation"
   ]
  },
  {
   "cell_type": "code",
   "execution_count": null,
   "metadata": {
    "ExecuteTime": {
     "end_time": "2021-10-28T20:19:27.992852Z",
     "start_time": "2021-10-28T20:17:57.266679Z"
    }
   },
   "outputs": [],
   "source": [
    "df_test[TEXT] = df_test[TEXT].apply(remove_urls)\n",
    "df_test[TEXT] = df_test[TEXT].apply(remove_html_entities)\n",
    "df_test[TEXT] = df_test[TEXT].apply(convert_lower_case)\n",
    "df_test[TEXT] = df_test[TEXT].apply(detect_news)\n",
    "df_test[TEXT] = df_test[TEXT].apply(remove_social_media_tags)\n",
    "df_test[PUNCTUATION_COUNT] = df_test[TEXT].apply(count_punctuations)\n",
    "df_test[TEXT] = df_test[TEXT].apply(preprocess_text)\n",
    "\n",
    "df_test[LOCATION].fillna('', inplace=True)\n",
    "df_test[LOCATIONS], df_test[IDENTIFIABLE_LOCATION] = zip(*df_test[LOCATION].apply(check_location))\n",
    "\n",
    "df_test[TEXT_TOKENIZED] = df_test[TEXT].apply(word_tokenize)\n",
    "\n",
    "df_test[ALL_TEXT] = df_test[TEXT_TOKENIZED] + df_test[LOCATIONS] \n",
    "# Keywords not added since the keywords are present in the text anyway\n",
    "\n",
    "df_test[ALL_TEXT_JOINED] = df_test[ALL_TEXT].apply(lambda x: \" \".join(x))"
   ]
  },
  {
   "cell_type": "markdown",
   "metadata": {},
   "source": [
    "The test data is ready now."
   ]
  },
  {
   "cell_type": "code",
   "execution_count": null,
   "metadata": {
    "ExecuteTime": {
     "end_time": "2021-10-28T20:19:28.062330Z",
     "start_time": "2021-10-28T20:19:27.992852Z"
    }
   },
   "outputs": [],
   "source": [
    "df_test.head()"
   ]
  },
  {
   "cell_type": "code",
   "execution_count": null,
   "metadata": {
    "ExecuteTime": {
     "end_time": "2021-10-28T20:19:28.130982Z",
     "start_time": "2021-10-28T20:19:28.062330Z"
    }
   },
   "outputs": [],
   "source": [
    "df_train.head()"
   ]
  },
  {
   "cell_type": "code",
   "execution_count": null,
   "metadata": {
    "ExecuteTime": {
     "end_time": "2021-10-28T20:19:28.649948Z",
     "start_time": "2021-10-28T20:19:28.130982Z"
    }
   },
   "outputs": [],
   "source": [
    "# df_train.to_csv('data/df_train_prepped.csv', index=False)\n",
    "# df_test.to_csv('data/df_test_prepped.csv', index=False)"
   ]
  },
  {
   "cell_type": "markdown",
   "metadata": {},
   "source": [
    "# Building a Data Modeling Pipeline\n",
    "\n",
    "**Text Vectorizing** is a common method which converts a sequenceo of text to a sequence of numbers. The sequence of numbers could represent a token or a sentence, depending on your use-case.\n",
    "\n",
    "Count Vectors and Tf-idf are the most common methods of vectorizing texts.\n",
    "\n",
    "**Training a ML model** is the next step where the vectorized forms of texts are fed to a model, like logistic regression in this case. After model training, its performance is evaluated.\n",
    "\n",
    "**Classification Evaluation Metrics**\n",
    "\n",
    "1. Accuracy\n",
    "2. Precision\n",
    "3. Recall\n",
    "4. F1-score"
   ]
  },
  {
   "cell_type": "markdown",
   "metadata": {},
   "source": [
    "## Helper Functions"
   ]
  },
  {
   "cell_type": "code",
   "execution_count": null,
   "metadata": {
    "ExecuteTime": {
     "end_time": "2021-10-28T20:19:28.687434Z",
     "start_time": "2021-10-28T20:19:28.649948Z"
    }
   },
   "outputs": [],
   "source": [
    "def print_classification_metrics(y_train, train_pred, y_test, test_pred):\n",
    "    print('Training Accuracy: ', accuracy_score(y_train, train_pred))\n",
    "    print('Training f1-score: ', f1_score(y_train, train_pred))\n",
    "    print('Accuracy: ', accuracy_score(y_test, test_pred))\n",
    "    print('Precision: ', precision_score(y_test, test_pred))\n",
    "    print('Recall: ', recall_score(y_test, test_pred))\n",
    "    print('f1-score: ', f1_score(y_test, test_pred))\n",
    "    \n",
    "def predict_challenge_test_data(model, test_data, filename):\n",
    "    submission_predictions = model.predict(test_data)\n",
    "    df_submission = pd.read_csv('data/sample_submission.csv')\n",
    "    df_submission[TARGET] = submission_predictions\n",
    "    df_submission.to_csv(filename, index=False)"
   ]
  },
  {
   "cell_type": "markdown",
   "metadata": {},
   "source": [
    "## Count Vectorizer"
   ]
  },
  {
   "cell_type": "code",
   "execution_count": null,
   "metadata": {
    "ExecuteTime": {
     "end_time": "2021-10-28T20:30:23.523692Z",
     "start_time": "2021-10-28T20:30:20.020381Z"
    }
   },
   "outputs": [],
   "source": [
    "cols_to_train = [ALL_TEXT_JOINED]\n",
    "\n",
    "tt = TweetTokenizer()\n",
    "\n",
    "X_train, X_test, y_train, y_test = train_test_split(df_train[cols_to_train],\n",
    "                                                    df_train[TARGET].values,\n",
    "                                                    test_size=0.2,\n",
    "                                                    random_state=42)\n",
    "\n",
    "ct = ColumnTransformer([('count_vec',\n",
    "                         CountVectorizer(tokenizer=tt.tokenize,\n",
    "                                         ngram_range=(1, 2)),\n",
    "                                         ALL_TEXT_JOINED)],\n",
    "                       remainder='passthrough')\n",
    "\n",
    "ct.fit(X_train)\n",
    "X_train_sparse = ct.transform(X_train)\n",
    "X_test_sparse = ct.transform(X_test)\n",
    "df_test_sparse = ct.transform(df_test[cols_to_train])"
   ]
  },
  {
   "cell_type": "code",
   "execution_count": null,
   "metadata": {
    "ExecuteTime": {
     "end_time": "2021-10-28T20:30:25.460013Z",
     "start_time": "2021-10-28T20:30:24.386440Z"
    }
   },
   "outputs": [],
   "source": [
    "log_reg = LogisticRegression()\n",
    "log_reg.fit(X_train_sparse, y_train)\n",
    "test_prediction = log_reg.predict(X_test_sparse)\n",
    "training_prediction = log_reg.predict(X_train_sparse)"
   ]
  },
  {
   "cell_type": "code",
   "execution_count": null,
   "metadata": {
    "ExecuteTime": {
     "end_time": "2021-10-28T20:30:26.427554Z",
     "start_time": "2021-10-28T20:30:26.378551Z"
    }
   },
   "outputs": [],
   "source": [
    "print_classification_metrics(y_train, training_prediction, y_test, test_prediction)"
   ]
  },
  {
   "cell_type": "markdown",
   "metadata": {},
   "source": [
    "## TF-IDF Vectorizer"
   ]
  },
  {
   "cell_type": "code",
   "execution_count": null,
   "metadata": {
    "ExecuteTime": {
     "end_time": "2021-10-28T20:31:53.105526Z",
     "start_time": "2021-10-28T20:31:49.592120Z"
    }
   },
   "outputs": [],
   "source": [
    "cols_to_train = [ALL_TEXT_JOINED]\n",
    "\n",
    "tt = TweetTokenizer()\n",
    "\n",
    "X_train, X_test, y_train, y_test = train_test_split(df_train[cols_to_train],\n",
    "                                                    df_train[TARGET].values,\n",
    "                                                    test_size=0.2,\n",
    "                                                    random_state=42)\n",
    "\n",
    "ct = ColumnTransformer([('tfidf',\n",
    "                         TfidfVectorizer(tokenizer=tt.tokenize,\n",
    "                                         ngram_range=(1, 2),\n",
    "                                         smooth_idf=True), ALL_TEXT_JOINED)],\n",
    "                       remainder='passthrough')\n",
    "\n",
    "ct.fit(X_train)\n",
    "X_train_sparse = ct.transform(X_train)\n",
    "X_test_sparse = ct.transform(X_test)\n",
    "df_test_sparse = ct.transform(df_test[cols_to_train])"
   ]
  },
  {
   "cell_type": "code",
   "execution_count": null,
   "metadata": {
    "ExecuteTime": {
     "end_time": "2021-10-28T20:31:54.766333Z",
     "start_time": "2021-10-28T20:31:53.982236Z"
    }
   },
   "outputs": [],
   "source": [
    "log_reg = LogisticRegression()\n",
    "log_reg.fit(X_train_sparse, y_train)\n",
    "test_prediction = log_reg.predict(X_test_sparse)\n",
    "training_prediction = log_reg.predict(X_train_sparse)"
   ]
  },
  {
   "cell_type": "code",
   "execution_count": null,
   "metadata": {
    "ExecuteTime": {
     "end_time": "2021-10-28T20:31:55.712164Z",
     "start_time": "2021-10-28T20:31:55.662525Z"
    }
   },
   "outputs": [],
   "source": [
    "print_classification_metrics(y_train, training_prediction, y_test, test_prediction)"
   ]
  }
 ],
 "metadata": {
  "kernelspec": {
   "display_name": "Python 3",
   "language": "python",
   "name": "python3"
  },
  "language_info": {
   "codemirror_mode": {
    "name": "ipython",
    "version": 3
   },
   "file_extension": ".py",
   "mimetype": "text/x-python",
   "name": "python",
   "nbconvert_exporter": "python",
   "pygments_lexer": "ipython3",
   "version": "3.8.5"
  },
  "toc": {
   "base_numbering": 1,
   "nav_menu": {},
   "number_sections": true,
   "sideBar": true,
   "skip_h1_title": false,
   "title_cell": "Table of Contents",
   "title_sidebar": "Contents",
   "toc_cell": false,
   "toc_position": {
    "height": "calc(100% - 180px)",
    "left": "10px",
    "top": "150px",
    "width": "300.792px"
   },
   "toc_section_display": true,
   "toc_window_display": true
  },
  "varInspector": {
   "cols": {
    "lenName": 16,
    "lenType": 16,
    "lenVar": 40
   },
   "kernels_config": {
    "python": {
     "delete_cmd_postfix": "",
     "delete_cmd_prefix": "del ",
     "library": "var_list.py",
     "varRefreshCmd": "print(var_dic_list())"
    },
    "r": {
     "delete_cmd_postfix": ") ",
     "delete_cmd_prefix": "rm(",
     "library": "var_list.r",
     "varRefreshCmd": "cat(var_dic_list()) "
    }
   },
   "types_to_exclude": [
    "module",
    "function",
    "builtin_function_or_method",
    "instance",
    "_Feature"
   ],
   "window_display": false
  }
 },
 "nbformat": 4,
 "nbformat_minor": 4
}
